{
 "cells": [
  {
   "cell_type": "code",
   "execution_count": 1,
   "metadata": {},
   "outputs": [],
   "source": [
    "import numpy as np\n",
    "import matplotlib.pyplot as plt\n",
    "import matplotlib\n",
    "import math\n",
    "from random import*\n",
    "from scipy.stats import entropy\n",
    "from Bio import SeqIO"
   ]
  },
  {
   "cell_type": "markdown",
   "metadata": {},
   "source": [
    "# Problem 1, question a)"
   ]
  },
  {
   "cell_type": "code",
   "execution_count": 2,
   "metadata": {},
   "outputs": [],
   "source": [
    "records = list(SeqIO.parse(\"MALGMALK1.fasta\", \"fasta\"))"
   ]
  },
  {
   "cell_type": "code",
   "execution_count": 3,
   "metadata": {},
   "outputs": [],
   "source": [
    "raw_seqs=[] #array of strings\n",
    "for i in range(len(records)): #loop over rows\n",
    "    raw_seqs.append(str(records[i].seq))"
   ]
  },
  {
   "cell_type": "code",
   "execution_count": 4,
   "metadata": {},
   "outputs": [],
   "source": [
    "dictionary=dict([('A',0), ('C', 1), ('D', 2), ('E', 3),('F',4),('G',5),('H',6),('I',7),('K',8),('L',9),('M',10),('N',11),('P',12),('Q',13),('R',14),('S',15),('T',16),('V',17),('W',18),('Y',19),('-',20)])"
   ]
  },
  {
   "cell_type": "code",
   "execution_count": 5,
   "metadata": {},
   "outputs": [],
   "source": [
    "seqarray=np.zeros((len(raw_seqs),len(raw_seqs[0])))\n",
    "for seqid in range(len(raw_seqs)):\n",
    "    seqarray[seqid]=[dictionary[character] for character in raw_seqs[seqid]]"
   ]
  },
  {
   "cell_type": "code",
   "execution_count": 6,
   "metadata": {},
   "outputs": [],
   "source": [
    "seqarray=seqarray.astype(np.int8) #we want integers"
   ]
  },
  {
   "cell_type": "code",
   "execution_count": 7,
   "metadata": {},
   "outputs": [
    {
     "data": {
      "text/plain": [
       "array([ 0, 14,  2,  3, 10, 12,  4, 14, 14,  4,  7, 16,  0,  9,  9,  9, 15,\n",
       "       12, 10,  7, 17, 12,  9,  7,  7, 16,  0,  0,  5, 10,  4,  4,  4, 19,\n",
       "       20, 20, 20, 20, 15, 11,  9, 20,  5,  9,  0,  5,  5, 19,  9,  5, 17,\n",
       "        7,  9,  0,  6,  0,  0,  9,  5, 16, 12,  4, 17,  7,  7, 16, 17, 16,\n",
       "        0, 16,  9, 16,  5,  4,  2, 19, 15,  9,  0, 14,  0,  0,  9, 11,  9,\n",
       "        5,  0, 16, 12,  7, 14, 17,  4,  4,  2, 17,  7, 10, 12,  9,  7, 14,\n",
       "       12,  5, 17,  7, 15,  5,  0,  9,  4,  0,  4,  7, 16, 15,  4,  2,  3,\n",
       "       17, 17, 17,  7,  9,  4, 10,  0,  5, 12, 20, 20, 13, 13, 14, 16,  7,\n",
       "       12, 14, 13, 10,  4, 15,  5,  9, 14,  3, 13,  7, 20, 20, 11, 12, 15,\n",
       "        7,  9,  0,  7,  0, 16,  9,  9,  7,  9, 17, 20, 20, 20, 20, 20, 20,\n",
       "       20, 20, 20, 20, 20, 20, 20, 16,  2,  7, 11,  7,  3,  7,  5, 13,  5,\n",
       "       13,  4,  7, 16,  9,  9,  5, 12, 15,  5,  1,  5,  8, 15, 16,  9,  9,\n",
       "       14,  1,  7,  0,  5,  9, 16,  3, 17,  2,  5,  5, 13,  7,  9,  9,  2,\n",
       "        5,  3,  2,  9, 17, 12, 17,  0, 12, 13,  8, 14,  5,  7,  5, 10, 17,\n",
       "        4, 13, 15, 19,  0,  9,  4, 12, 11, 10, 16, 17, 13, 13, 11, 17,  0,\n",
       "        4,  5,  8, 17, 12,  0, 17,  3,  0, 15,  8, 14, 17,  0,  3, 17,  9,\n",
       "        3,  9, 17,  3,  9, 11,  2, 19,  0, 11, 14, 19, 12, 20, 20, 20, 20,\n",
       "       13, 13,  9, 15,  5,  5, 13,  1, 13, 14, 17,  0,  9,  0, 14, 15,  9,\n",
       "       17, 16, 14, 12, 14,  9,  9,  9,  9,  2,  3, 12,  9], dtype=int8)"
      ]
     },
     "execution_count": 7,
     "metadata": {},
     "output_type": "execute_result"
    }
   ],
   "source": [
    "seqarray[1,:]"
   ]
  },
  {
   "cell_type": "markdown",
   "metadata": {},
   "source": [
    "# Problem 1, question b)"
   ]
  },
  {
   "cell_type": "code",
   "execution_count": 8,
   "metadata": {},
   "outputs": [],
   "source": [
    "frequencies=np.zeros((len(seqarray[0]),np.max(seqarray)+1))\n",
    "for i in range(len(seqarray[0])): #loop over columns\n",
    "    hist, bin_edges = np.histogram(seqarray[:,i], bins=range(22))\n",
    "    frequencies[i,:]=hist/len(seqarray)"
   ]
  },
  {
   "cell_type": "code",
   "execution_count": 9,
   "metadata": {},
   "outputs": [
    {
     "data": {
      "text/plain": [
       "0.9996003197442046"
      ]
     },
     "execution_count": 9,
     "metadata": {},
     "output_type": "execute_result"
    }
   ],
   "source": [
    "#checking: no frequency should be larger than one\n",
    "np.max(frequencies) "
   ]
  },
  {
   "cell_type": "code",
   "execution_count": 10,
   "metadata": {},
   "outputs": [
    {
     "data": {
      "text/plain": [
       "array([1., 1., 1., 1., 1., 1., 1., 1., 1., 1., 1., 1., 1., 1., 1., 1., 1.,\n",
       "       1., 1., 1., 1., 1., 1., 1., 1., 1., 1., 1., 1., 1., 1., 1., 1., 1.,\n",
       "       1., 1., 1., 1., 1., 1., 1., 1., 1., 1., 1., 1., 1., 1., 1., 1., 1.,\n",
       "       1., 1., 1., 1., 1., 1., 1., 1., 1., 1., 1., 1., 1., 1., 1., 1., 1.,\n",
       "       1., 1., 1., 1., 1., 1., 1., 1., 1., 1., 1., 1., 1., 1., 1., 1., 1.,\n",
       "       1., 1., 1., 1., 1., 1., 1., 1., 1., 1., 1., 1., 1., 1., 1., 1., 1.,\n",
       "       1., 1., 1., 1., 1., 1., 1., 1., 1., 1., 1., 1., 1., 1., 1., 1., 1.,\n",
       "       1., 1., 1., 1., 1., 1., 1., 1., 1., 1., 1., 1., 1., 1., 1., 1., 1.,\n",
       "       1., 1., 1., 1., 1., 1., 1., 1., 1., 1., 1., 1., 1., 1., 1., 1., 1.,\n",
       "       1., 1., 1., 1., 1., 1., 1., 1., 1., 1., 1., 1., 1., 1., 1., 1., 1.,\n",
       "       1., 1., 1., 1., 1., 1., 1., 1., 1., 1., 1., 1., 1., 1., 1., 1., 1.,\n",
       "       1., 1., 1., 1., 1., 1., 1., 1., 1., 1., 1., 1., 1., 1., 1., 1., 1.,\n",
       "       1., 1., 1., 1., 1., 1., 1., 1., 1., 1., 1., 1., 1., 1., 1., 1., 1.,\n",
       "       1., 1., 1., 1., 1., 1., 1., 1., 1., 1., 1., 1., 1., 1., 1., 1., 1.,\n",
       "       1., 1., 1., 1., 1., 1., 1., 1., 1., 1., 1., 1., 1., 1., 1., 1., 1.,\n",
       "       1., 1., 1., 1., 1., 1., 1., 1., 1., 1., 1., 1., 1., 1., 1., 1., 1.,\n",
       "       1., 1., 1., 1., 1., 1., 1., 1., 1., 1., 1., 1., 1., 1., 1., 1., 1.,\n",
       "       1., 1., 1., 1., 1., 1., 1., 1., 1., 1., 1., 1., 1., 1., 1., 1., 1.,\n",
       "       1., 1., 1., 1., 1., 1., 1., 1., 1., 1., 1., 1., 1.])"
      ]
     },
     "execution_count": 10,
     "metadata": {},
     "output_type": "execute_result"
    }
   ],
   "source": [
    "#checking: frequencies should sum to one\n",
    "sums=np.zeros(len(seqarray[0]))\n",
    "for i in range(len(seqarray[0])): #loop over columns\n",
    "    sums[i]=np.sum(frequencies[i,:])\n",
    "sums"
   ]
  },
  {
   "cell_type": "code",
   "execution_count": 11,
   "metadata": {},
   "outputs": [],
   "source": [
    "entropies=np.zeros(len(seqarray[0]))\n",
    "for i in range(len(seqarray[0])): #loop over columns\n",
    "    entropies[i]=entropy(frequencies[i,:], base=2)"
   ]
  },
  {
   "cell_type": "code",
   "execution_count": 12,
   "metadata": {},
   "outputs": [
    {
     "data": {
      "text/plain": [
       "319"
      ]
     },
     "execution_count": 12,
     "metadata": {},
     "output_type": "execute_result"
    }
   ],
   "source": [
    "len(seqarray[0])"
   ]
  },
  {
   "cell_type": "code",
   "execution_count": 13,
   "metadata": {},
   "outputs": [
    {
     "data": {
      "text/plain": [
       "2.9478020797255002"
      ]
     },
     "execution_count": 13,
     "metadata": {},
     "output_type": "execute_result"
    }
   ],
   "source": [
    "np.mean(entropies[1:177])"
   ]
  },
  {
   "cell_type": "code",
   "execution_count": 14,
   "metadata": {},
   "outputs": [
    {
     "data": {
      "text/plain": [
       "1.689178570769012"
      ]
     },
     "execution_count": 14,
     "metadata": {},
     "output_type": "execute_result"
    }
   ],
   "source": [
    "np.mean(entropies[178:319])"
   ]
  },
  {
   "cell_type": "markdown",
   "metadata": {},
   "source": [
    "The mean value of entropy over the MALG sites is substantially larger than that over the MALK sites. It means that MALK is overall more highly conserved than MALG. "
   ]
  },
  {
   "cell_type": "markdown",
   "metadata": {},
   "source": [
    "# Problem 1, question c)"
   ]
  },
  {
   "cell_type": "code",
   "execution_count": 15,
   "metadata": {},
   "outputs": [],
   "source": [
    "entropiesMALG=np.zeros(177)\n",
    "entropiesMALK=np.zeros(142)\n",
    "Hxy=np.zeros((177,142))\n",
    "for i in range(177): #loop over columns in MALG\n",
    "    hist= np.histogram(seqarray[:,i], bins=range(22))[0]\n",
    "    entropiesMALG[i]=entropy(hist/len(seqarray), base=2)\n",
    "    for j in range(177,len(seqarray[0])): #loop over columns in MALK\n",
    "        hist= np.histogram(seqarray[:,j], bins=range(22))[0]\n",
    "        entropiesMALK[j-177]=entropy(hist/len(seqarray), base=2)\n",
    "        hist = np.histogram2d(seqarray[:,i], seqarray[:,j], bins=[range(22),range(22)])[0]\n",
    "        aux = hist/len(seqarray)\n",
    "        Hxy[i,j-177]=entropy(aux.flatten(), base=2)"
   ]
  },
  {
   "cell_type": "code",
   "execution_count": 16,
   "metadata": {},
   "outputs": [],
   "source": [
    "Ixy=np.zeros((177,142))\n",
    "for i in range(177): #loop over columns in MALG\n",
    "    for j in range(177,len(seqarray[0])): #loop over columns in MALK\n",
    "        Ixy[i,j-177]=entropiesMALG[i]+entropiesMALK[j-177]-Hxy[i,j-177]# Ixy=Hx+Hy-Hxy"
   ]
  },
  {
   "cell_type": "code",
   "execution_count": 17,
   "metadata": {
    "scrolled": true
   },
   "outputs": [
    {
     "data": {
      "image/png": "[encoded data removed]",
      "text/plain": [
       "<Figure size 288x358.986 with 1 Axes>"
      ]
     },
     "metadata": {
      "needs_background": "light"
     },
     "output_type": "display_data"
    }
   ],
   "source": [
    "plt.matshow(Ixy)\n",
    "plt.show()"
   ]
  },
  {
   "cell_type": "markdown",
   "metadata": {},
   "source": [
    "We observe that some rows and columns are globally lighter than others, rather than specific pairs of sites. It shows that some specific sites are involved in many pairs with larger mutual information. "
   ]
  },
  {
   "cell_type": "code",
   "execution_count": 18,
   "metadata": {
    "scrolled": false
   },
   "outputs": [
    {
     "data": {
      "image/png": "[encoded data removed]",
      "text/plain": [
       "<Figure size 432x288 with 1 Axes>"
      ]
     },
     "metadata": {
      "needs_background": "light"
     },
     "output_type": "display_data"
    }
   ],
   "source": [
    "plt.hist(Ixy.flatten(),30)\n",
    "ax = plt.gca()\n",
    "ax.set_xlabel(\"Mutual information (bits)\")\n",
    "ax.set_ylabel(\"Count\")\n",
    "plt.show()"
   ]
  },
  {
   "cell_type": "markdown",
   "metadata": {},
   "source": [
    "# Problem 1, question d)"
   ]
  },
  {
   "cell_type": "code",
   "execution_count": 19,
   "metadata": {},
   "outputs": [],
   "source": [
    "records = list(SeqIO.parse(\"MALGMALK2.fasta\", \"fasta\"))"
   ]
  },
  {
   "cell_type": "code",
   "execution_count": 20,
   "metadata": {},
   "outputs": [],
   "source": [
    "raw_seqs=[] #array of strings\n",
    "for i in range(len(records)): #loop over rows\n",
    "    raw_seqs.append(str(records[i].seq))"
   ]
  },
  {
   "cell_type": "code",
   "execution_count": 21,
   "metadata": {},
   "outputs": [],
   "source": [
    "seqarray2=np.zeros((len(raw_seqs),len(raw_seqs[0])))\n",
    "for seqid in range(len(raw_seqs)):\n",
    "    seqarray2[seqid]=[dictionary[character] for character in raw_seqs[seqid]]"
   ]
  },
  {
   "cell_type": "code",
   "execution_count": 22,
   "metadata": {},
   "outputs": [],
   "source": [
    "seqarray2=seqarray2.astype(np.int8) #we want integers"
   ]
  },
  {
   "cell_type": "code",
   "execution_count": 23,
   "metadata": {},
   "outputs": [],
   "source": [
    "entropiesMALG2=np.zeros(177)\n",
    "entropiesMALK2=np.zeros(142)\n",
    "Hxy2=np.zeros((177,142))\n",
    "for i in range(177): #loop over columns in MALG\n",
    "    hist= np.histogram(seqarray2[:,i], bins=range(22))[0]\n",
    "    entropiesMALG2[i]=entropy(hist/len(seqarray2), base=2)\n",
    "    for j in range(177,len(seqarray2[0])): #loop over columns in MALK\n",
    "        hist= np.histogram(seqarray2[:,j], bins=range(22))[0]\n",
    "        entropiesMALK2[j-177]=entropy(hist/len(seqarray2), base=2)\n",
    "        hist = np.histogram2d(seqarray2[:,i], seqarray2[:,j], bins=[range(22),range(22)])[0]\n",
    "        aux = hist/len(seqarray2)\n",
    "        Hxy2[i,j-177]=entropy(aux.flatten(), base=2)"
   ]
  },
  {
   "cell_type": "code",
   "execution_count": 24,
   "metadata": {},
   "outputs": [],
   "source": [
    "Ixy2=np.zeros((177,142))\n",
    "for i in range(177): #loop over columns in MALG\n",
    "    for j in range(177,len(seqarray[0])): #loop over columns in MALK\n",
    "        Ixy2[i,j-177]=entropiesMALG2[i]+entropiesMALK2[j-177]-Hxy2[i,j-177]# Ixy=Hx+Hy-Hxy"
   ]
  },
  {
   "cell_type": "code",
   "execution_count": 25,
   "metadata": {},
   "outputs": [
    {
     "data": {
      "image/png": "[encoded data removed]",
      "text/plain": [
       "<Figure size 288x358.986 with 1 Axes>"
      ]
     },
     "metadata": {
      "needs_background": "light"
     },
     "output_type": "display_data"
    }
   ],
   "source": [
    "plt.matshow(Ixy2);\n",
    "plt.show()"
   ]
  },
  {
   "cell_type": "code",
   "execution_count": 26,
   "metadata": {
    "scrolled": true
   },
   "outputs": [
    {
     "data": {
      "image/png": "[encoded data removed]",
      "text/plain": [
       "<Figure size 432x288 with 1 Axes>"
      ]
     },
     "metadata": {
      "needs_background": "light"
     },
     "output_type": "display_data"
    }
   ],
   "source": [
    "plt.hist(Ixy2.flatten(),30)\n",
    "plt.show()"
   ]
  },
  {
   "cell_type": "markdown",
   "metadata": {},
   "source": [
    "# Problem 1, question e)"
   ]
  },
  {
   "cell_type": "code",
   "execution_count": 28,
   "metadata": {},
   "outputs": [
    {
     "data": {
      "text/plain": [
       "0.04606188406015028"
      ]
     },
     "execution_count": 28,
     "metadata": {},
     "output_type": "execute_result"
    }
   ],
   "source": [
    "np.mean(Ixy)"
   ]
  },
  {
   "cell_type": "code",
   "execution_count": 29,
   "metadata": {},
   "outputs": [
    {
     "data": {
      "text/plain": [
       "0.19845612975593485"
      ]
     },
     "execution_count": 29,
     "metadata": {},
     "output_type": "execute_result"
    }
   ],
   "source": [
    "np.mean(Ixy2)"
   ]
  },
  {
   "cell_type": "markdown",
   "metadata": {},
   "source": [
    "We again observe that some rows and columns are globally lighter than others. However, here, we also observe that specific pairs of sites have a high mutual information, which was not obvious in the previous dataset. Besides, overall, the mutual information values are far larger here than in the previous dataset, as illustrated by the means computed just above.\n",
    "\n",
    "We expect interacting partners to coevolve to maintain their specific interactions through the course of evolution. This leads to larger statistical dependence and larger mutual information values between the sites of interacting partner sequences. Therefore, the file where we found larger mutual information values should be the one with the correct interacting partners: it is file number 2. Meanwhile, file number 1 contains scrambled partners, with much reduced mutual information."
   ]
  },
  {
   "cell_type": "markdown",
   "metadata": {},
   "source": [
    "# Problem 1, question f)"
   ]
  },
  {
   "cell_type": "markdown",
   "metadata": {},
   "source": [
    "We know that finite size effects on entropy have a leading term in K/N, where K is the number of possible states and N is the number of data points. Here, we have K=21 and N=5004, so it is of the order 0.004, to be compared to a maximum entropy of log_2(21)=4.39. Thus, the finite size effects on entropy are very small.\n",
    "\n",
    "For mutual information, we should also consider the finite size effects on joint entropy H(X,Y). In this case, there are K^2=21^2 possible states, but still N=5004. Thus, finite size effects are of the order of 0.09, which is still small but less small than for entropy. For mutual information, the finite size effects on joint entropy dominate over those on the entropy of each separate site. \n",
    "\n",
    "Interestingly, we observe that the mutual information values from file 1 were of the order of 0.09, as the mean was around 0.05 and very few pairs of sites were above 0.09. Thus, in file 1, most of the mutual information signal we computed could come from finite size effects. Meanwhile, for file 2, the values were much above 0.09 and thus, there is real mutual information signal that does not only come from finite size effects."
   ]
  },
  {
   "cell_type": "code",
   "execution_count": 31,
   "metadata": {},
   "outputs": [
    {
     "data": {
      "text/plain": [
       "5004"
      ]
     },
     "execution_count": 31,
     "metadata": {},
     "output_type": "execute_result"
    }
   ],
   "source": [
    "np.size(raw_seqs)"
   ]
  },
  {
   "cell_type": "code",
   "execution_count": 32,
   "metadata": {},
   "outputs": [
    {
     "data": {
      "text/plain": [
       "0.004196642685851319"
      ]
     },
     "execution_count": 32,
     "metadata": {},
     "output_type": "execute_result"
    }
   ],
   "source": [
    "21/5004"
   ]
  },
  {
   "cell_type": "code",
   "execution_count": 33,
   "metadata": {},
   "outputs": [
    {
     "data": {
      "text/plain": [
       "4.392317422778761"
      ]
     },
     "execution_count": 33,
     "metadata": {},
     "output_type": "execute_result"
    }
   ],
   "source": [
    "np.log(21)/np.log(2)"
   ]
  },
  {
   "cell_type": "code",
   "execution_count": 34,
   "metadata": {
    "scrolled": true
   },
   "outputs": [
    {
     "data": {
      "text/plain": [
       "0.08812949640287769"
      ]
     },
     "execution_count": 34,
     "metadata": {},
     "output_type": "execute_result"
    }
   ],
   "source": [
    "21*21/5004"
   ]
  },
  {
   "cell_type": "markdown",
   "metadata": {},
   "source": [
    "# Problem 1, question g)"
   ]
  },
  {
   "cell_type": "markdown",
   "metadata": {},
   "source": [
    "Uniprot says that MALG is \"part of the ABC transporter complex MalEFGK involved in maltose/maltodextrin import. Probably responsible for the translocation of the substrate across the membrane.\", and that MALK is \"Part of the ABC transporter complex MalEFGK involved in maltose/maltodextrin import. Responsible for energy coupling to the transport system.\" ABC transporters are protein complexes that ensure transport of substances across the cell membrane. Here we are focusing on the one that is involved in maltose/maltodextrin import. There are other ABC transporters, which transport other substances. \n",
    "\n",
    "The interaction between MALG and MALK is part of the interactions that maintain the integrity of the ABC transporter protein complex. Thus, the interaction between MALG and MALK is expected to be quite specific, to ensure the assembly and maintainance of this important protein complex.\n",
    "\n",
    "We expect the pairs of sites with high mutual information to be located at the binding interface between MALG and MALK.\n",
    "\n",
    "This is very similar to the HK-RR case, as the specificity of interaction yields pairs of sites with large mutual information between the interaction partners, which tend to be at the interface. However, here, we are considering a permanent complex as opposed to a transient interaction involved in signaling."
   ]
  },
  {
   "cell_type": "markdown",
   "metadata": {},
   "source": [
    "# Problem 1, question h)"
   ]
  },
  {
   "cell_type": "markdown",
   "metadata": {},
   "source": [
    "We have seen that what distinguishes the correct pairings from the incorrect ones was that the correct pairings had higher mutual information values in some pairs of sites. Thus, if we start from a file with scrambled partners, we can try to modify the pairings in order to obtain higher mutual information values. In principle the correct pairing is the one that leads to the largest mutual information values. We have to solve an optimization problem over pairings."
   ]
  },
  {
   "cell_type": "markdown",
   "metadata": {},
   "source": [
    "# Problem 2, question a)"
   ]
  },
  {
   "cell_type": "markdown",
   "metadata": {},
   "source": [
    "Assuming L independent sites, the likelihood of the data if the sequences are separated by an evolutionary distance d is the probability that n sites feature a different amino acid while L-n sites feature the same one after a distance d. It is given by the binomial distribution: $\\mathcal{L}=P(n)={L\\choose n}[3p(d)]^n[1-3p(d)]^{L-n}$, where 3p(d) is the probability that the nucleotide differs from its ancestral state after an evolutionary distance d."
   ]
  },
  {
   "cell_type": "markdown",
   "metadata": {},
   "source": [
    "# Problem 2, question b)"
   ]
  },
  {
   "cell_type": "markdown",
   "metadata": {},
   "source": [
    "To find a maximum likelihood estimate of the evolutionary distance d, we need to find the value of d that maximizes the likelihood $\\mathcal{L}$ of the data, or equivalnently, its logarithm. Thus, we need to differentiate $\\ln[\\mathcal{L}]$ with respect to d, for fixed values of L and n (L and n characterize the data, which is fixed). \n",
    "\n",
    "Let us introduce $a=e^{-4d/3}$. We have:\n",
    "\\begin{equation}\n",
    "\\frac{\\partial [\\ln(\\mathcal{L})]}{\\partial d}=n\\frac{\\partial \\ln[p(d)]}{\\partial d}+(L-n)\\frac{\\partial \\ln[1-3p(d)]}{\\partial d}=n\\frac{\\partial \\ln[1-a]}{\\partial d}+(L-n)\\frac{\\partial \\ln[3a+1]}{\\partial d}=\\frac{\\partial a}{\\partial d}\\left[-\\frac{n}{1-a}+3\\frac{L-n}{3a+1}\\right]=\\frac{4a}{3}\\left[\\frac{n}{1-a}-3\\frac{L-n}{3a+1}\\right]=\\frac{4a}{3}\\times\\frac{n(1+3a)-3(L-n)(1-a)}{(1-a)(1+3a)}=\\frac{4a}{3}\\times\\frac{4n+3L(a-1)}{(1-a)(1+3a)}\\,.\n",
    "\\end{equation}\n",
    "Thus, setting to zero the partial derivative of $\\ln(\\mathcal{L})$ with respect to $d$ yields $4n+3L(a-1)$, or $a=1-4n/(3L)$, which gives $d=-\\frac{3}{4}\\ln\\left[1-\\frac{4}{3}\\frac{n}{L}\\right]$."
   ]
  },
  {
   "cell_type": "markdown",
   "metadata": {},
   "source": [
    "# Problem 2, question c)"
   ]
  },
  {
   "cell_type": "code",
   "execution_count": 35,
   "metadata": {},
   "outputs": [],
   "source": [
    "records = list(SeqIO.parse(\"BetaLactamase.fasta\", \"fasta\"))"
   ]
  },
  {
   "cell_type": "code",
   "execution_count": 36,
   "metadata": {},
   "outputs": [],
   "source": [
    "raw_seqs3=[] #array of strings\n",
    "for i in range(len(records)): #loop over rows\n",
    "    raw_seqs3.append(str(records[i].seq))"
   ]
  },
  {
   "cell_type": "code",
   "execution_count": 37,
   "metadata": {},
   "outputs": [
    {
     "data": {
      "text/plain": [
       "309"
      ]
     },
     "execution_count": 37,
     "metadata": {},
     "output_type": "execute_result"
    }
   ],
   "source": [
    "len(raw_seqs3[0])"
   ]
  },
  {
   "cell_type": "code",
   "execution_count": 38,
   "metadata": {},
   "outputs": [],
   "source": [
    "dictionary2=dict([('A',0), ('C', 1), ('G', 2), ('T', 3)])"
   ]
  },
  {
   "cell_type": "code",
   "execution_count": 39,
   "metadata": {},
   "outputs": [],
   "source": [
    "seqarray3=np.zeros((len(raw_seqs3),len(raw_seqs3[0])))\n",
    "for seqid in range(len(raw_seqs3)):\n",
    "    seqarray3[seqid]=[dictionary2[character] for character in raw_seqs3[seqid]]"
   ]
  },
  {
   "cell_type": "code",
   "execution_count": 40,
   "metadata": {},
   "outputs": [],
   "source": [
    "seqarray3=seqarray3.astype(np.int8) #we want integers"
   ]
  },
  {
   "cell_type": "code",
   "execution_count": 41,
   "metadata": {},
   "outputs": [
    {
     "name": "stdout",
     "output_type": "stream",
     "text": [
      "0.4408399986765892\n"
     ]
    }
   ],
   "source": [
    "h01=sum(i != j for i, j in zip(seqarray3[0], seqarray3[1]))/len(raw_seqs3[0])\n",
    "d01=-3*np.log(1-4*h01/3)/4\n",
    "print(d01)"
   ]
  },
  {
   "cell_type": "code",
   "execution_count": 42,
   "metadata": {},
   "outputs": [
    {
     "name": "stdout",
     "output_type": "stream",
     "text": [
      "0.9680175153055716\n"
     ]
    }
   ],
   "source": [
    "h02=sum(i != j for i, j in zip(seqarray3[0], seqarray3[2]))/len(raw_seqs3[0])\n",
    "d02=-3*np.log(1-4*h02/3)/4\n",
    "print(d02)"
   ]
  },
  {
   "cell_type": "code",
   "execution_count": 43,
   "metadata": {},
   "outputs": [
    {
     "name": "stdout",
     "output_type": "stream",
     "text": [
      "0.9005563378083672\n"
     ]
    }
   ],
   "source": [
    "h12=sum(i != j for i, j in zip(seqarray3[1], seqarray3[2]))/len(raw_seqs3[0])\n",
    "d12=-3*np.log(1-4*h12/3)/4\n",
    "print(d12)"
   ]
  },
  {
   "cell_type": "markdown",
   "metadata": {},
   "source": [
    "# Problem 2, question d)"
   ]
  },
  {
   "cell_type": "markdown",
   "metadata": {},
   "source": [
    "We found that $d_{01}$ was substantially smaller than other distances, so tree A should best describe the data, among the three trees proposed."
   ]
  },
  {
   "cell_type": "markdown",
   "metadata": {},
   "source": [
    "# Problem 2, question e)"
   ]
  },
  {
   "cell_type": "markdown",
   "metadata": {},
   "source": [
    "If $N_x^{(1)}$ is identical to $N_0^{(1)}$, we have $P\\left(N^{(1)}_0\\Big|N^{(1)}_x,d\\right)=1-3p(d)$. \n",
    "\n",
    "If $N_x^{(1)}$ differs from $N_0^{(1)}$, we have $P\\left(N^{(1)}_0\\Big|N^{(1)}_x,d\\right)=p(d)$."
   ]
  },
  {
   "cell_type": "markdown",
   "metadata": {},
   "source": [
    "# Problem 2, question f)"
   ]
  },
  {
   "cell_type": "code",
   "execution_count": 50,
   "metadata": {},
   "outputs": [
    {
     "name": "stdout",
     "output_type": "stream",
     "text": [
      "0.24875357619614685\n"
     ]
    }
   ],
   "source": [
    "Ncol=1\n",
    "d=0.001\n",
    "p1=(1-np.exp(-4*d/3))/4\n",
    "p2=(1-np.exp(-4*2*d/3))/4\n",
    "for i in range(Ncol): #loop over columns\n",
    "    counter=0\n",
    "    liks=np.ones(16)\n",
    "    for x in range(4): #loop over ancestral state x\n",
    "        for y in range(4): #loop over ancestral state y            \n",
    "            if x==seqarray3[0][i]:\n",
    "                liks[counter]=liks[counter]*(1-3*p1)\n",
    "            else:\n",
    "                liks[counter]=liks[counter]*p1 \n",
    "            if x==seqarray3[1][i]:\n",
    "                liks[counter]=liks[counter]*(1-3*p1)\n",
    "            else:\n",
    "                liks[counter]=liks[counter]*p1\n",
    "            if x==y:\n",
    "                liks[counter]=liks[counter]*(1-3*p1)\n",
    "            else:\n",
    "                liks[counter]=liks[counter]*p1\n",
    "            if y==seqarray3[2][i]:\n",
    "                liks[counter]=liks[counter]*(1-3*p2)\n",
    "            else:\n",
    "                liks[counter]=liks[counter]*p2\n",
    "            counter=counter+1\n",
    "L1=0.25*sum(liks)\n",
    "print(L1)"
   ]
  },
  {
   "cell_type": "code",
   "execution_count": 48,
   "metadata": {},
   "outputs": [
    {
     "name": "stdout",
     "output_type": "stream",
     "text": [
      "2\n",
      "2\n",
      "2\n"
     ]
    }
   ],
   "source": [
    "print(seqarray3[0][0])\n",
    "print(seqarray3[1][0])\n",
    "print(seqarray3[2][0])"
   ]
  },
  {
   "cell_type": "code",
   "execution_count": 49,
   "metadata": {},
   "outputs": [
    {
     "data": {
      "text/plain": [
       "array([7.38030116e-11, 2.46092033e-14, 3.68892176e-11, 2.46092033e-14,\n",
       "       2.46092033e-14, 7.38030116e-11, 3.68892176e-11, 2.46092033e-14,\n",
       "       2.21335265e-07, 2.21335265e-07, 9.95013640e-01, 2.21335265e-07,\n",
       "       2.46092033e-14, 2.46092033e-14, 3.68892176e-11, 7.38030116e-11])"
      ]
     },
     "execution_count": 49,
     "metadata": {},
     "output_type": "execute_result"
    }
   ],
   "source": [
    "liks"
   ]
  },
  {
   "cell_type": "markdown",
   "metadata": {},
   "source": [
    "Here we have a G at the first site in all three sequences. Furthermore, we assumed that d=0.01, which is a very small evolutionary distance meaning that almost no subsitution is expected to occur. Thus, the largest term is expected to be obtained in the case where the first nucleotide is G in both ancestral sequences x and y. We observe that it is indeed the case here - with our ordering, G is 3rd, so this case is in the 3rd column of the 3rd row. The value of this term is $(1-3p_1)^3(1-3p_2)$, see below."
   ]
  },
  {
   "cell_type": "code",
   "execution_count": 22,
   "metadata": {
    "scrolled": true
   },
   "outputs": [
    {
     "data": {
      "text/plain": [
       "0.9950136404465694"
      ]
     },
     "execution_count": 22,
     "metadata": {},
     "output_type": "execute_result"
    }
   ],
   "source": [
    "(1-3*p1)**3*(1-3*p2)"
   ]
  },
  {
   "cell_type": "markdown",
   "metadata": {},
   "source": [
    "# Problem 2, question g)"
   ]
  },
  {
   "cell_type": "markdown",
   "metadata": {},
   "source": [
    "Given the  independent site assumption, the likelihood of the full dataset under a tree can be written as the product of the likelihood of each site under that tree: \n",
    "\\begin{equation}\n",
    "\\mathcal{L}=\\prod_{i=1}^L\\mathcal{L}^{(i)}\\,.\n",
    "\\end{equation}"
   ]
  },
  {
   "cell_type": "markdown",
   "metadata": {},
   "source": [
    "# Problem 2, question h)"
   ]
  },
  {
   "cell_type": "code",
   "execution_count": 25,
   "metadata": {},
   "outputs": [],
   "source": [
    "#tree A\n",
    "\n",
    "Ncol=len(raw_seqs3[0])\n",
    "d=0.2\n",
    "p1=(1-np.exp(-4*d/3))/4\n",
    "p2=(1-np.exp(-4*2*d/3))/4\n",
    "likelihoods=np.zeros(Ncol)\n",
    "for i in range(Ncol): #loop over columns\n",
    "    counter=0\n",
    "    liks=np.ones(16)\n",
    "    for x in range(4): #loop over ancestral state x\n",
    "        for y in range(4): #loop over ancestral state y            \n",
    "            if x==seqarray3[0][i]:\n",
    "                liks[counter]=liks[counter]*(1-3*p1)\n",
    "            else:\n",
    "                liks[counter]=liks[counter]*p1 \n",
    "            if x==seqarray3[1][i]:\n",
    "                liks[counter]=liks[counter]*(1-3*p1)\n",
    "            else:\n",
    "                liks[counter]=liks[counter]*p1\n",
    "            if x==y:\n",
    "                liks[counter]=liks[counter]*(1-3*p1)\n",
    "            else:\n",
    "                liks[counter]=liks[counter]*p1\n",
    "            if y==seqarray3[2][i]:\n",
    "                liks[counter]=liks[counter]*(1-3*p2)\n",
    "            else:\n",
    "                liks[counter]=liks[counter]*p2\n",
    "            counter=counter+1\n",
    "    likelihoods[i]=0.25*sum(liks)"
   ]
  },
  {
   "cell_type": "code",
   "execution_count": 26,
   "metadata": {},
   "outputs": [
    {
     "data": {
      "text/plain": [
       "-1123.6245286845178"
      ]
     },
     "execution_count": 26,
     "metadata": {},
     "output_type": "execute_result"
    }
   ],
   "source": [
    "loglikelihoods=np.log(likelihoods)\n",
    "np.sum(loglikelihoods)"
   ]
  },
  {
   "cell_type": "code",
   "execution_count": 27,
   "metadata": {},
   "outputs": [
    {
     "data": {
      "text/plain": [
       "0.0"
      ]
     },
     "execution_count": 27,
     "metadata": {},
     "output_type": "execute_result"
    }
   ],
   "source": [
    "np.prod(likelihoods)"
   ]
  },
  {
   "cell_type": "markdown",
   "metadata": {},
   "source": [
    "The value exp(-1124) is extremely small. We multiplied many probabilities which are all <1. Taking logarithms allows us to handle values which are less extremely small. Here it is actually crucial to do this, as the product of the likelihoods is actually evaluated to 0 by Python, due to numerical pecision issues (see above)."
   ]
  },
  {
   "cell_type": "markdown",
   "metadata": {},
   "source": [
    "# Problem 2, question i)"
   ]
  },
  {
   "cell_type": "code",
   "execution_count": 51,
   "metadata": {},
   "outputs": [],
   "source": [
    "#tree B\n",
    "\n",
    "Ncol=len(raw_seqs3[0])\n",
    "d=0.2\n",
    "p1=(1-np.exp(-4*d/3))/4\n",
    "p2=(1-np.exp(-4*2*d/3))/4\n",
    "likelihoods=np.zeros(Ncol)\n",
    "for i in range(Ncol): #loop over columns\n",
    "    counter=0\n",
    "    liks=np.ones(16)\n",
    "    for x in range(4): #loop over ancestral state x\n",
    "        for y in range(4): #loop over ancestral state y            \n",
    "            if x==seqarray3[0][i]:\n",
    "                liks[counter]=liks[counter]*(1-3*p1)\n",
    "            else:\n",
    "                liks[counter]=liks[counter]*p1 \n",
    "            if x==seqarray3[2][i]:\n",
    "                liks[counter]=liks[counter]*(1-3*p1)\n",
    "            else:\n",
    "                liks[counter]=liks[counter]*p1\n",
    "            if x==y:\n",
    "                liks[counter]=liks[counter]*(1-3*p1)\n",
    "            else:\n",
    "                liks[counter]=liks[counter]*p1\n",
    "            if y==seqarray3[1][i]:\n",
    "                liks[counter]=liks[counter]*(1-3*p2)\n",
    "            else:\n",
    "                liks[counter]=liks[counter]*p2\n",
    "            counter=counter+1\n",
    "    likelihoods[i]=0.25*sum(liks)"
   ]
  },
  {
   "cell_type": "code",
   "execution_count": 52,
   "metadata": {},
   "outputs": [
    {
     "data": {
      "text/plain": [
       "-1187.907696174121"
      ]
     },
     "execution_count": 52,
     "metadata": {},
     "output_type": "execute_result"
    }
   ],
   "source": [
    "loglikelihoods=np.log(likelihoods)\n",
    "np.sum(loglikelihoods)"
   ]
  },
  {
   "cell_type": "code",
   "execution_count": 35,
   "metadata": {},
   "outputs": [],
   "source": [
    "#tree C\n",
    "\n",
    "Ncol=len(raw_seqs3[0])\n",
    "d=0.2\n",
    "p1=(1-np.exp(-4*d/3))/4\n",
    "p2=(1-np.exp(-4*2*d/3))/4\n",
    "likelihoods=np.zeros(Ncol)\n",
    "for i in range(Ncol): #loop over columns\n",
    "    counter=0\n",
    "    liks=np.ones(16)\n",
    "    for x in range(4): #loop over ancestral state x\n",
    "        for y in range(4): #loop over ancestral state y            \n",
    "            if x==seqarray3[1][i]:\n",
    "                liks[counter]=liks[counter]*(1-3*p1)\n",
    "            else:\n",
    "                liks[counter]=liks[counter]*p1 \n",
    "            if x==seqarray3[2][i]:\n",
    "                liks[counter]=liks[counter]*(1-3*p1)\n",
    "            else:\n",
    "                liks[counter]=liks[counter]*p1\n",
    "            if x==y:\n",
    "                liks[counter]=liks[counter]*(1-3*p1)\n",
    "            else:\n",
    "                liks[counter]=liks[counter]*p1\n",
    "            if y==seqarray3[0][i]:\n",
    "                liks[counter]=liks[counter]*(1-3*p2)\n",
    "            else:\n",
    "                liks[counter]=liks[counter]*p2\n",
    "            counter=counter+1\n",
    "    likelihoods[i]=0.25*sum(liks)"
   ]
  },
  {
   "cell_type": "code",
   "execution_count": 36,
   "metadata": {},
   "outputs": [
    {
     "data": {
      "text/plain": [
       "-1181.9738653289269"
      ]
     },
     "execution_count": 36,
     "metadata": {},
     "output_type": "execute_result"
    }
   ],
   "source": [
    "loglikelihoods=np.log(likelihoods)\n",
    "np.sum(loglikelihoods)"
   ]
  },
  {
   "cell_type": "markdown",
   "metadata": {},
   "source": [
    "Tree A yields a larger likelihood than trees B and C. The likelihood ratio between tree A and tree C (the next best one) is exp(-1124)/exp(-1182)=exp(-1124+1182), which is extremely large, see below. Thus, the conclusion that tree A is the best tree is strongly supported."
   ]
  },
  {
   "cell_type": "code",
   "execution_count": 55,
   "metadata": {},
   "outputs": [
    {
     "data": {
      "text/plain": [
       "1.545538935590104e+25"
      ]
     },
     "execution_count": 55,
     "metadata": {},
     "output_type": "execute_result"
    }
   ],
   "source": [
    "np.exp(-1124+1182)"
   ]
  },
  {
   "cell_type": "markdown",
   "metadata": {},
   "source": [
    "# Problem 2, question j)"
   ]
  },
  {
   "cell_type": "code",
   "execution_count": 56,
   "metadata": {},
   "outputs": [],
   "source": [
    "Ncol=len(raw_seqs3[0])\n",
    "ds=[0.01,0.02,0.05,0.1,0.15,0.2,0.25,0.3,0.35,0.4,0.5,0.6,0.7,0.8,0.9,1]\n",
    "lls=np.zeros(len(ds))\n",
    "for ids in range(len(ds)):\n",
    "    d=ds[ids]\n",
    "    p1=(1-np.exp(-4*d/3))/4\n",
    "    p2=(1-np.exp(-4*2*d/3))/4\n",
    "    likelihoods=np.zeros(Ncol)\n",
    "    for i in range(Ncol): #loop over columns\n",
    "        counter=0\n",
    "        liks=np.ones(16)\n",
    "        for x in range(4): #loop over ancestral state x\n",
    "            for y in range(4): #loop over ancestral state y            \n",
    "                if x==seqarray3[0][i]:\n",
    "                    liks[counter]=liks[counter]*(1-3*p1)\n",
    "                else:\n",
    "                    liks[counter]=liks[counter]*p1 \n",
    "                if x==seqarray3[1][i]:\n",
    "                    liks[counter]=liks[counter]*(1-3*p1)\n",
    "                else:\n",
    "                    liks[counter]=liks[counter]*p1\n",
    "                if x==y:\n",
    "                    liks[counter]=liks[counter]*(1-3*p1)\n",
    "                else:\n",
    "                    liks[counter]=liks[counter]*p1\n",
    "                if y==seqarray3[2][i]:\n",
    "                    liks[counter]=liks[counter]*(1-3*p2)\n",
    "                else:\n",
    "                    liks[counter]=liks[counter]*p2\n",
    "                counter=counter+1\n",
    "        likelihoods[i]=0.25*sum(liks)\n",
    "    loglikelihoods=np.log(likelihoods)\n",
    "    lls[ids]=np.sum(loglikelihoods)"
   ]
  },
  {
   "cell_type": "code",
   "execution_count": 57,
   "metadata": {},
   "outputs": [
    {
     "data": {
      "image/png": "[encoded data removed]",
      "text/plain": [
       "<Figure size 432x288 with 1 Axes>"
      ]
     },
     "metadata": {
      "needs_background": "light"
     },
     "output_type": "display_data"
    }
   ],
   "source": [
    "plt.plot(ds,lls,marker='o')\n",
    "ax = plt.gca()\n",
    "ax.set_xlabel(\"Evolutionary distance d\")\n",
    "ax.set_ylabel(\"Log likelihood of the data given the tree\")\n",
    "plt.show()"
   ]
  },
  {
   "cell_type": "markdown",
   "metadata": {},
   "source": [
    "We observe that a maximum of the likelihood is obtained for d close to 0.2 to 0.25. This is the maximum likelihood estimate of d here. It corresponds to the value we took above. In tree A, we have $d_{01}=2d$, and we saw in question c) that $d_{01}=0.44$, so this is consistent."
   ]
  }
 ],
 "metadata": {
  "kernelspec": {
   "display_name": "Python 3 (ipykernel)",
   "language": "python",
   "name": "python3"
  },
  "language_info": {
   "codemirror_mode": {
    "name": "ipython",
    "version": 3
   },
   "file_extension": ".py",
   "mimetype": "text/x-python",
   "name": "python",
   "nbconvert_exporter": "python",
   "pygments_lexer": "ipython3",
   "version": "3.9.10"
  }
 },
 "nbformat": 4,
 "nbformat_minor": 2
}
