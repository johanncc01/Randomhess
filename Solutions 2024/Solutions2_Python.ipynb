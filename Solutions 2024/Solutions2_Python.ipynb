{
 "cells": [
  {
   "cell_type": "code",
   "execution_count": 1,
   "metadata": {},
   "outputs": [],
   "source": [
    "import numpy as np\n",
    "import matplotlib.pyplot as plt\n",
    "import matplotlib"
   ]
  },
  {
   "cell_type": "markdown",
   "metadata": {},
   "source": [
    "# Problem 1, question b)"
   ]
  },
  {
   "cell_type": "code",
   "execution_count": 2,
   "metadata": {},
   "outputs": [
    {
     "name": "stdout",
     "output_type": "stream",
     "text": [
      "4\n"
     ]
    }
   ],
   "source": [
    "mu=1e-2\n",
    "Nwt=200\n",
    "Nmut_n=np.random.poisson(mu*Nwt)\n",
    "print(Nmut_n)"
   ]
  },
  {
   "cell_type": "code",
   "execution_count": 3,
   "metadata": {},
   "outputs": [],
   "source": [
    "mu=1e-2\n",
    "Nwt=200\n",
    "Nmut_n=np.random.poisson(mu*Nwt,10000)"
   ]
  },
  {
   "cell_type": "code",
   "execution_count": 4,
   "metadata": {},
   "outputs": [
    {
     "data": {
      "image/png": "[encoded data removed]",
      "text/plain": [
       "<Figure size 432x288 with 1 Axes>"
      ]
     },
     "metadata": {
      "needs_background": "light"
     },
     "output_type": "display_data"
    }
   ],
   "source": [
    "plt.hist(Nmut_n)\n",
    "plt.show()"
   ]
  },
  {
   "cell_type": "code",
   "execution_count": 5,
   "metadata": {},
   "outputs": [
    {
     "data": {
      "text/plain": [
       "2.023"
      ]
     },
     "execution_count": 5,
     "metadata": {},
     "output_type": "execute_result"
    }
   ],
   "source": [
    "np.mean(Nmut_n)"
   ]
  },
  {
   "cell_type": "code",
   "execution_count": 6,
   "metadata": {},
   "outputs": [
    {
     "data": {
      "text/plain": [
       "2.0158709999999997"
      ]
     },
     "execution_count": 6,
     "metadata": {},
     "output_type": "execute_result"
    }
   ],
   "source": [
    "np.var(Nmut_n)"
   ]
  },
  {
   "cell_type": "markdown",
   "metadata": {},
   "source": [
    "# Problem 1, question c)"
   ]
  },
  {
   "cell_type": "code",
   "execution_count": 7,
   "metadata": {},
   "outputs": [],
   "source": [
    "mu=2e-9\n",
    "Nwt=200\n",
    "Nmut=0\n",
    "for g in range(21):\n",
    "    Nmut_n=np.random.poisson(mu*Nwt)\n",
    "    Nwt_n=Nwt-Nmut_n\n",
    "    Nmut=2*Nmut+Nmut_n\n",
    "    Nwt=Nwt+Nwt_n"
   ]
  },
  {
   "cell_type": "code",
   "execution_count": 8,
   "metadata": {},
   "outputs": [
    {
     "data": {
      "text/plain": [
       "2"
      ]
     },
     "execution_count": 8,
     "metadata": {},
     "output_type": "execute_result"
    }
   ],
   "source": [
    "Nmut"
   ]
  },
  {
   "cell_type": "code",
   "execution_count": 9,
   "metadata": {},
   "outputs": [
    {
     "data": {
      "text/plain": [
       "419430400"
      ]
     },
     "execution_count": 9,
     "metadata": {},
     "output_type": "execute_result"
    }
   ],
   "source": [
    "Nwt+Nmut"
   ]
  },
  {
   "cell_type": "code",
   "execution_count": 10,
   "metadata": {},
   "outputs": [
    {
     "data": {
      "text/plain": [
       "419430400"
      ]
     },
     "execution_count": 10,
     "metadata": {},
     "output_type": "execute_result"
    }
   ],
   "source": [
    "200*2**21"
   ]
  },
  {
   "cell_type": "markdown",
   "metadata": {},
   "source": [
    "# Problem 1, questions d-e)"
   ]
  },
  {
   "cell_type": "code",
   "execution_count": 11,
   "metadata": {},
   "outputs": [],
   "source": [
    "mu=2e-9\n",
    "C=500\n",
    "Nmut_f = np.zeros((C,1))\n",
    "for c in range(C):\n",
    "    Nwt=200\n",
    "    Nmut=0\n",
    "    for g in range(21):\n",
    "        Nmut_n=np.random.poisson(mu*Nwt)\n",
    "        Nwt_n=Nwt-Nmut_n\n",
    "        Nmut=2*Nmut+Nmut_n\n",
    "        Nwt=Nwt+Nwt_n\n",
    "    Nmut_f[c]=Nmut"
   ]
  },
  {
   "cell_type": "code",
   "execution_count": 12,
   "metadata": {},
   "outputs": [
    {
     "data": {
      "image/png": "[encoded data removed]",
      "text/plain": [
       "<Figure size 432x288 with 1 Axes>"
      ]
     },
     "metadata": {
      "needs_background": "light"
     },
     "output_type": "display_data"
    }
   ],
   "source": [
    "plt.hist(Nmut_f)\n",
    "plt.show()"
   ]
  },
  {
   "cell_type": "code",
   "execution_count": 13,
   "metadata": {},
   "outputs": [
    {
     "data": {
      "text/plain": [
       "3.438"
      ]
     },
     "execution_count": 13,
     "metadata": {},
     "output_type": "execute_result"
    }
   ],
   "source": [
    "np.mean(Nmut_f)"
   ]
  },
  {
   "cell_type": "code",
   "execution_count": 14,
   "metadata": {},
   "outputs": [
    {
     "data": {
      "text/plain": [
       "201.11415599999995"
      ]
     },
     "execution_count": 14,
     "metadata": {},
     "output_type": "execute_result"
    }
   ],
   "source": [
    "np.var(Nmut_f)"
   ]
  },
  {
   "cell_type": "markdown",
   "metadata": {},
   "source": [
    "# Problem 1, question f)"
   ]
  },
  {
   "cell_type": "code",
   "execution_count": 15,
   "metadata": {},
   "outputs": [],
   "source": [
    "mu=2e-9\n",
    "C=500\n",
    "Nmut_f = np.zeros((C,1))\n",
    "gen_mut = np.zeros((C,1))\n",
    "for c in range(C):\n",
    "    Nwt=200\n",
    "    Nmut=0\n",
    "    for g in range(21):\n",
    "        Nmut_n=np.random.poisson(mu*Nwt)\n",
    "        Nwt_n=Nwt-Nmut_n\n",
    "        if Nmut==0 and Nmut_n>0:\n",
    "            gen_mut[c]=g+1\n",
    "        elif Nmut==0 and g==20:\n",
    "            gen_mut[c]=g+2\n",
    "        Nmut=2*Nmut+Nmut_n\n",
    "        Nwt=Nwt+Nwt_n\n",
    "    Nmut_f[c]=Nmut"
   ]
  },
  {
   "cell_type": "code",
   "execution_count": 16,
   "metadata": {},
   "outputs": [
    {
     "data": {
      "image/png": "[encoded data removed]",
      "text/plain": [
       "<Figure size 432x288 with 1 Axes>"
      ]
     },
     "metadata": {
      "needs_background": "light"
     },
     "output_type": "display_data"
    }
   ],
   "source": [
    "plt.plot(Nmut_f, gen_mut,'b.')\n",
    "ax = plt.gca()\n",
    "ax.set_xlabel(\"Final number of resistant mutants Nmut_f\")\n",
    "ax.set_ylabel(\"Generation of the first mutation gen_mut\")\n",
    "plt.show()"
   ]
  },
  {
   "cell_type": "markdown",
   "metadata": {},
   "source": [
    "# Problem 2"
   ]
  },
  {
   "cell_type": "code",
   "execution_count": 17,
   "metadata": {},
   "outputs": [],
   "source": [
    "data = np.load('Data3.npy')"
   ]
  },
  {
   "cell_type": "code",
   "execution_count": 18,
   "metadata": {},
   "outputs": [
    {
     "data": {
      "text/plain": [
       "array([[0.000e+00, 2.900e+01],\n",
       "       [1.000e+00, 1.700e+01],\n",
       "       [2.000e+00, 4.000e+00],\n",
       "       [3.000e+00, 3.000e+00],\n",
       "       [4.000e+00, 3.000e+00],\n",
       "       [5.000e+00, 2.000e+00],\n",
       "       [6.000e+00, 5.000e+00],\n",
       "       [1.100e+01, 6.000e+00],\n",
       "       [2.100e+01, 7.000e+00],\n",
       "       [5.100e+01, 5.000e+00],\n",
       "       [1.010e+02, 2.000e+00],\n",
       "       [2.010e+02, 4.000e+00],\n",
       "       [5.010e+02, 0.000e+00],\n",
       "       [1.001e+03, 0.000e+00]])"
      ]
     },
     "execution_count": 18,
     "metadata": {},
     "output_type": "execute_result"
    }
   ],
   "source": [
    "data"
   ]
  },
  {
   "cell_type": "code",
   "execution_count": 19,
   "metadata": {},
   "outputs": [
    {
     "data": {
      "image/png": "[encoded data removed]",
      "text/plain": [
       "<Figure size 432x288 with 1 Axes>"
      ]
     },
     "metadata": {
      "needs_background": "light"
     },
     "output_type": "display_data"
    }
   ],
   "source": [
    "plt.plot(data[:,0],data[:,1],'b.')\n",
    "ax = plt.gca()\n",
    "ax.set_xlabel(\"Final number of resistant mutants Nmut_f\")\n",
    "ax.set_ylabel(\"Number R of cultures with Nmut_f\")\n",
    "plt.show()"
   ]
  },
  {
   "cell_type": "code",
   "execution_count": 29,
   "metadata": {
    "scrolled": true
   },
   "outputs": [],
   "source": [
    "datab=np.zeros((np.size(data,0)-1,np.size(data,1)))\n",
    "for i in range(np.size(data,0)-1): #loop over rows\n",
    "    min=data[i,0]\n",
    "    max=data[i+1,0]-1\n",
    "    datab[i,0]=(min+max)/2\n",
    "    datab[i,1]=data[i,1]"
   ]
  },
  {
   "cell_type": "code",
   "execution_count": 30,
   "metadata": {},
   "outputs": [
    {
     "data": {
      "text/plain": [
       "array([[  0. ,  29. ],\n",
       "       [  1. ,  17. ],\n",
       "       [  2. ,   4. ],\n",
       "       [  3. ,   3. ],\n",
       "       [  4. ,   3. ],\n",
       "       [  5. ,   2. ],\n",
       "       [  8. ,   5. ],\n",
       "       [ 15.5,   6. ],\n",
       "       [ 35.5,   7. ],\n",
       "       [ 75.5,   5. ],\n",
       "       [150.5,   2. ],\n",
       "       [350.5,   4. ],\n",
       "       [750.5,   0. ]])"
      ]
     },
     "execution_count": 30,
     "metadata": {},
     "output_type": "execute_result"
    }
   ],
   "source": [
    "datab"
   ]
  },
  {
   "cell_type": "code",
   "execution_count": 31,
   "metadata": {},
   "outputs": [
    {
     "data": {
      "image/png": "[encoded data removed]",
      "text/plain": [
       "<Figure size 432x288 with 1 Axes>"
      ]
     },
     "metadata": {
      "needs_background": "light"
     },
     "output_type": "display_data"
    }
   ],
   "source": [
    "plt.plot(datab[:,0],datab[:,1],'b.')\n",
    "ax = plt.gca()\n",
    "ax.set_xlabel(\"Final number of resistant mutants Nmut_f\")\n",
    "ax.set_ylabel(\"Number R of cultures with Nmut_f\")\n",
    "plt.show()"
   ]
  },
  {
   "cell_type": "code",
   "execution_count": 32,
   "metadata": {},
   "outputs": [],
   "source": [
    "dataMean=0\n",
    "for i in range(np.size(datab,0)):\n",
    "    dataMean=dataMean+datab[i,0]*datab[i,1]\n",
    "dataMean=dataMean/np.sum(datab[:,1])"
   ]
  },
  {
   "cell_type": "code",
   "execution_count": 33,
   "metadata": {},
   "outputs": [
    {
     "data": {
      "text/plain": [
       "28.942528735632184"
      ]
     },
     "execution_count": 33,
     "metadata": {},
     "output_type": "execute_result"
    }
   ],
   "source": [
    "dataMean"
   ]
  },
  {
   "cell_type": "code",
   "execution_count": 34,
   "metadata": {},
   "outputs": [],
   "source": [
    "dataMeanSquare=0\n",
    "for i in range(np.size(datab,0)):\n",
    "    dataMeanSquare=dataMeanSquare+datab[i,0]**2*datab[i,1]\n",
    "dataMeanSquare=dataMeanSquare/np.sum(datab[:,1])"
   ]
  },
  {
   "cell_type": "code",
   "execution_count": 35,
   "metadata": {},
   "outputs": [
    {
     "data": {
      "text/plain": [
       "6620.045977011494"
      ]
     },
     "execution_count": 35,
     "metadata": {},
     "output_type": "execute_result"
    }
   ],
   "source": [
    "dataMeanSquare"
   ]
  },
  {
   "cell_type": "code",
   "execution_count": 36,
   "metadata": {},
   "outputs": [],
   "source": [
    "dataVar=dataMeanSquare-dataMean**2"
   ]
  },
  {
   "cell_type": "code",
   "execution_count": 37,
   "metadata": {},
   "outputs": [
    {
     "data": {
      "text/plain": [
       "5782.3760073985995"
      ]
     },
     "execution_count": 37,
     "metadata": {},
     "output_type": "execute_result"
    }
   ],
   "source": [
    "dataVar"
   ]
  },
  {
   "cell_type": "code",
   "execution_count": null,
   "metadata": {},
   "outputs": [],
   "source": []
  }
 ],
 "metadata": {
  "kernelspec": {
   "display_name": "Python 3 (ipykernel)",
   "language": "python",
   "name": "python3"
  },
  "language_info": {
   "codemirror_mode": {
    "name": "ipython",
    "version": 3
   },
   "file_extension": ".py",
   "mimetype": "text/x-python",
   "name": "python",
   "nbconvert_exporter": "python",
   "pygments_lexer": "ipython3",
   "version": "3.9.10"
  }
 },
 "nbformat": 4,
 "nbformat_minor": 2
}
