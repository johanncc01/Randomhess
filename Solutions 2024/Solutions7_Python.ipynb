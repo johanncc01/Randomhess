{
 "cells": [
  {
   "cell_type": "code",
   "execution_count": 1,
   "metadata": {},
   "outputs": [],
   "source": [
    "import numpy as np\n",
    "import matplotlib.pyplot as plt\n",
    "import matplotlib\n",
    "import math\n",
    "from random import*\n",
    "from scipy.stats import entropy\n",
    "from Bio import SeqIO"
   ]
  },
  {
   "cell_type": "markdown",
   "metadata": {},
   "source": [
    "# Problem 1, question a)"
   ]
  },
  {
   "cell_type": "code",
   "execution_count": 2,
   "metadata": {},
   "outputs": [],
   "source": [
    "records = list(SeqIO.parse(\"crp_sites.fa\", \"fasta\"))"
   ]
  },
  {
   "cell_type": "code",
   "execution_count": 3,
   "metadata": {},
   "outputs": [
    {
     "data": {
      "text/plain": [
       "'ATAAGCAGGATTTAGCTCACACTTAT'"
      ]
     },
     "execution_count": 3,
     "metadata": {},
     "output_type": "execute_result"
    }
   ],
   "source": [
    "str(records[0].seq)"
   ]
  },
  {
   "cell_type": "code",
   "execution_count": 4,
   "metadata": {},
   "outputs": [],
   "source": [
    "raw_seqs=[] #array of strings\n",
    "for i in range(len(records)): #loop over rows\n",
    "    raw_seqs.append(str(records[i].seq))"
   ]
  },
  {
   "cell_type": "markdown",
   "metadata": {},
   "source": [
    "# Problem 1, question b)"
   ]
  },
  {
   "cell_type": "code",
   "execution_count": 5,
   "metadata": {},
   "outputs": [],
   "source": [
    "dictionary=dict([('A',0), ('C', 1), ('G', 2), ('T', 3)])"
   ]
  },
  {
   "cell_type": "code",
   "execution_count": 6,
   "metadata": {},
   "outputs": [],
   "source": [
    "seqarray=np.zeros((len(raw_seqs),len(raw_seqs[0])))\n",
    "for seqid in range(len(raw_seqs)):\n",
    "    seqarray[seqid]=[dictionary[character] for character in raw_seqs[seqid]]"
   ]
  },
  {
   "cell_type": "code",
   "execution_count": 7,
   "metadata": {},
   "outputs": [],
   "source": [
    "seqarray=seqarray.astype(np.int8) #we want integers"
   ]
  },
  {
   "cell_type": "markdown",
   "metadata": {},
   "source": [
    "# Problem 2, questions c, d and h)"
   ]
  },
  {
   "cell_type": "code",
   "execution_count": 8,
   "metadata": {},
   "outputs": [],
   "source": [
    "frequencies=np.zeros((len(seqarray[0]),np.max(seqarray)+1))\n",
    "entropies=np.zeros(len(seqarray[0]))\n",
    "products=np.zeros((len(seqarray[0]),np.max(seqarray)+1))\n",
    "for i in range(len(seqarray[0])): #loop over columns\n",
    "    hist, bin_edges = np.histogram(seqarray[:,i], bins=[0, 1, 2, 3, 4])\n",
    "    frequencies[i,:]=hist/len(seqarray)\n",
    "    entropies[i]=entropy(frequencies[i,:], base=2)\n",
    "    products[i,:]=(2-entropies[i])*frequencies[i,:];"
   ]
  },
  {
   "cell_type": "code",
   "execution_count": 9,
   "metadata": {},
   "outputs": [
    {
     "data": {
      "text/plain": [
       "array([0.37150838, 0.18156425, 0.20111732, 0.24581006])"
      ]
     },
     "execution_count": 9,
     "metadata": {},
     "output_type": "execute_result"
    }
   ],
   "source": [
    "frequencies[0,:]"
   ]
  },
  {
   "cell_type": "code",
   "execution_count": 10,
   "metadata": {},
   "outputs": [
    {
     "data": {
      "text/plain": [
       "0.7346368715083799"
      ]
     },
     "execution_count": 10,
     "metadata": {},
     "output_type": "execute_result"
    }
   ],
   "source": [
    "#checking: no frequency should be larger than one\n",
    "np.max(frequencies) "
   ]
  },
  {
   "cell_type": "code",
   "execution_count": 11,
   "metadata": {},
   "outputs": [
    {
     "data": {
      "text/plain": [
       "array([1., 1., 1., 1., 1., 1., 1., 1., 1., 1., 1., 1., 1., 1., 1., 1., 1.,\n",
       "       1., 1., 1., 1., 1., 1., 1., 1., 1.])"
      ]
     },
     "execution_count": 11,
     "metadata": {},
     "output_type": "execute_result"
    }
   ],
   "source": [
    "#checking: frequencies should sum to one\n",
    "sums=np.zeros(len(seqarray[0]))\n",
    "for i in range(len(seqarray[0])): #loop over columns\n",
    "    sums[i]=np.sum(frequencies[i,:])\n",
    "sums"
   ]
  },
  {
   "cell_type": "markdown",
   "metadata": {},
   "source": [
    "# Problem 1, question e)"
   ]
  },
  {
   "cell_type": "code",
   "execution_count": 12,
   "metadata": {
    "scrolled": true
   },
   "outputs": [
    {
     "data": {
      "image/png": "[encoded data removed]",
      "text/plain": [
       "<Figure size 432x288 with 1 Axes>"
      ]
     },
     "metadata": {
      "needs_background": "light"
     },
     "output_type": "display_data"
    }
   ],
   "source": [
    "plt.bar(range(len(seqarray[0])),entropies)\n",
    "ax = plt.gca()\n",
    "ax.set_xlabel(\"Nucleotide\")\n",
    "ax.set_ylabel(\"Entropy (bits)\")\n",
    "plt.show()"
   ]
  },
  {
   "cell_type": "code",
   "execution_count": 13,
   "metadata": {},
   "outputs": [
    {
     "data": {
      "text/plain": [
       "2.0"
      ]
     },
     "execution_count": 13,
     "metadata": {},
     "output_type": "execute_result"
    }
   ],
   "source": [
    "math.log(4,2) #uniform distribution -> maximum entropy"
   ]
  },
  {
   "cell_type": "markdown",
   "metadata": {},
   "source": [
    "The maximum possible value of entropy is obtained in the case of a uniform distribution - each of the N=4 states having the same probability 1/N. \n",
    "\n",
    "Column 8 has a smaller entropy than column 11. This means that column 11 is more variable than column 8 (closer to a uniform distribution). "
   ]
  },
  {
   "cell_type": "markdown",
   "metadata": {},
   "source": [
    "# Problem 1, question f)"
   ]
  },
  {
   "cell_type": "code",
   "execution_count": 14,
   "metadata": {},
   "outputs": [
    {
     "data": {
      "text/plain": [
       "(358, 26)"
      ]
     },
     "execution_count": 14,
     "metadata": {},
     "output_type": "execute_result"
    }
   ],
   "source": [
    "np.shape(seqarray)"
   ]
  },
  {
   "cell_type": "code",
   "execution_count": 32,
   "metadata": {},
   "outputs": [
    {
     "data": {
      "text/plain": [
       "0.0111731843575419"
      ]
     },
     "execution_count": 32,
     "metadata": {},
     "output_type": "execute_result"
    }
   ],
   "source": [
    "4/358"
   ]
  },
  {
   "cell_type": "code",
   "execution_count": 33,
   "metadata": {},
   "outputs": [
    {
     "data": {
      "text/plain": [
       "0.05865921787709497"
      ]
     },
     "execution_count": 33,
     "metadata": {},
     "output_type": "execute_result"
    }
   ],
   "source": [
    "21/358"
   ]
  },
  {
   "cell_type": "code",
   "execution_count": 34,
   "metadata": {},
   "outputs": [
    {
     "data": {
      "text/plain": [
       "4.392317422778761"
      ]
     },
     "execution_count": 34,
     "metadata": {},
     "output_type": "execute_result"
    }
   ],
   "source": [
    "math.log(21,2)"
   ]
  },
  {
   "cell_type": "markdown",
   "metadata": {},
   "source": [
    "Here, for each column, K=4 and N=358. Hence, K/N=0.011, to be compared with entropies of order 2 bits. The finite size effects are not too large, less than 1% in relative terms. In the case of protein sequences, K=21 instead of 4. So, for the same N, we would have K/N=0.059, which is still quite small compared to the maximum entropy that would then be possible, log_2(21)=4.4, but now it's more than 1% in relative terms."
   ]
  },
  {
   "cell_type": "markdown",
   "metadata": {},
   "source": [
    "# Problem 1, question g)"
   ]
  },
  {
   "cell_type": "code",
   "execution_count": 35,
   "metadata": {},
   "outputs": [
    {
     "data": {
      "image/png": "[encoded data removed]",
      "text/plain": [
       "<Figure size 432x288 with 1 Axes>"
      ]
     },
     "metadata": {
      "needs_background": "light"
     },
     "output_type": "display_data"
    }
   ],
   "source": [
    "plt.bar(range(len(seqarray[0])),2-entropies)\n",
    "ax = plt.gca()\n",
    "ax.set_xlabel(\"Nucleotide\")\n",
    "ax.set_ylabel(\"Logo height (bits)\")\n",
    "plt.show()"
   ]
  },
  {
   "cell_type": "markdown",
   "metadata": {},
   "source": [
    "The height quantifies conservation: for a highly conserved column, the height is large, for one where nucleotides are uniformly distributed the height is zero. Entropy is positive and its maximum value, obtained for the uniform case, is 2 here: hence, it ranges between 0 and 2. Therefore, the height also ranges between 0 and 2. Column 11 has a height close to 0, while column 8 has one of the highest heights but it is not approaching 2 (in this dataset we do not have any case of perfect or near-perfect conservation)."
   ]
  },
  {
   "cell_type": "markdown",
   "metadata": {},
   "source": [
    "# Problem 1, question i)"
   ]
  },
  {
   "cell_type": "code",
   "execution_count": 36,
   "metadata": {
    "scrolled": true
   },
   "outputs": [
    {
     "data": {
      "text/plain": [
       "<logomaker.src.Logo.Logo at 0x7f01d6039ac0>"
      ]
     },
     "execution_count": 36,
     "metadata": {},
     "output_type": "execute_result"
    },
    {
     "data": {
      "image/png": "[encoded data removed]",
      "text/plain": [
       "<Figure size 720x180 with 1 Axes>"
      ]
     },
     "metadata": {
      "needs_background": "light"
     },
     "output_type": "display_data"
    }
   ],
   "source": [
    "import pandas as pd\n",
    "import logomaker as lm\n",
    "%matplotlib inline\n",
    "plt.ion()\n",
    "products_pd = pd.DataFrame(data=products,columns=[\"A\",\"C\",\"G\",\"T\"])\n",
    "lm.Logo(products_pd)"
   ]
  },
  {
   "cell_type": "markdown",
   "metadata": {},
   "source": [
    "# Problem 1, question j)"
   ]
  },
  {
   "cell_type": "markdown",
   "metadata": {},
   "source": [
    "In these logos, the most frequent nucleotide is on top, the next frequent one just below, and so on. Hence we can read the consensus sequence by just reading the top (and largest) letter of each column. This representation makes the consensus sequence easily visible, except in sites with very low conservation (i.e., highly variable sites)."
   ]
  },
  {
   "cell_type": "markdown",
   "metadata": {},
   "source": [
    "# Problem 1, question k)"
   ]
  },
  {
   "cell_type": "markdown",
   "metadata": {},
   "source": [
    "This logo allows to see quite prominently which sites are conserved (via the height) and thus particularly important for the alignment considered. At the same time, we can see which are the main nucleotides at these sites very well since the height of each letter is proportional to frequency. The consensus sequence is also easily visible (apart from sites where anyway there is so little conservation that the most frequent nucleotide has little meaning). This representation combines two important pieces of information."
   ]
  },
  {
   "cell_type": "markdown",
   "metadata": {},
   "source": [
    "# Problem 1, question l)"
   ]
  },
  {
   "cell_type": "markdown",
   "metadata": {},
   "source": [
    "The strongest binding of CRP to DNA should occur on the most conserved regions - thus explaining the evolutionary pressure to conserve them. And indeed, CRP is a dimer that binds at two places, reflecting the two conserved regions here."
   ]
  }
 ],
 "metadata": {
  "kernelspec": {
   "display_name": "Python 3 (ipykernel)",
   "language": "python",
   "name": "python3"
  },
  "language_info": {
   "codemirror_mode": {
    "name": "ipython",
    "version": 3
   },
   "file_extension": ".py",
   "mimetype": "text/x-python",
   "name": "python",
   "nbconvert_exporter": "python",
   "pygments_lexer": "ipython3",
   "version": "3.9.10"
  }
 },
 "nbformat": 4,
 "nbformat_minor": 2
}
