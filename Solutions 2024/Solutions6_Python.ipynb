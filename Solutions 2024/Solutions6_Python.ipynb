{
 "cells": [
  {
   "cell_type": "code",
   "execution_count": 1,
   "metadata": {},
   "outputs": [],
   "source": [
    "import numpy as np\n",
    "import matplotlib.pyplot as plt\n",
    "import matplotlib\n",
    "from random import*\n",
    "from scipy.stats import entropy"
   ]
  },
  {
   "cell_type": "markdown",
   "metadata": {},
   "source": [
    "# Problem 1, questions a-b)"
   ]
  },
  {
   "cell_type": "code",
   "execution_count": 2,
   "metadata": {},
   "outputs": [],
   "source": [
    "def myentropy0(plist): #this version has an issue when a probability is 0\n",
    "    result=0;\n",
    "    for i in range(np.size(plist)):\n",
    "        result=result-plist[i]*np.log2(plist[i])\n",
    "    return result"
   ]
  },
  {
   "cell_type": "code",
   "execution_count": 3,
   "metadata": {},
   "outputs": [
    {
     "data": {
      "text/plain": [
       "0.4689955935892812"
      ]
     },
     "execution_count": 3,
     "metadata": {},
     "output_type": "execute_result"
    }
   ],
   "source": [
    "myentropy0([9/10, 1/10])"
   ]
  },
  {
   "cell_type": "code",
   "execution_count": 4,
   "metadata": {
    "scrolled": true
   },
   "outputs": [
    {
     "name": "stderr",
     "output_type": "stream",
     "text": [
      "<ipython-input-2-956a15f87483>:4: RuntimeWarning: divide by zero encountered in log2\n",
      "  result=result-plist[i]*np.log2(plist[i])\n",
      "<ipython-input-2-956a15f87483>:4: RuntimeWarning: invalid value encountered in double_scalars\n",
      "  result=result-plist[i]*np.log2(plist[i])\n"
     ]
    },
    {
     "data": {
      "text/plain": [
       "nan"
      ]
     },
     "execution_count": 4,
     "metadata": {},
     "output_type": "execute_result"
    }
   ],
   "source": [
    "myentropy0([1,0])"
   ]
  },
  {
   "cell_type": "code",
   "execution_count": 5,
   "metadata": {},
   "outputs": [],
   "source": [
    "def myentropy(plist): #this version has no issue when a probability is 0\n",
    "    result=0;\n",
    "    for i in range(np.size(plist)):\n",
    "        if plist[i]>0:\n",
    "            result=result-plist[i]*np.log2(plist[i])\n",
    "    return result"
   ]
  },
  {
   "cell_type": "code",
   "execution_count": 6,
   "metadata": {},
   "outputs": [
    {
     "data": {
      "text/plain": [
       "0.4689955935892812"
      ]
     },
     "execution_count": 6,
     "metadata": {},
     "output_type": "execute_result"
    }
   ],
   "source": [
    "myentropy([9/10, 1/10])"
   ]
  },
  {
   "cell_type": "code",
   "execution_count": 7,
   "metadata": {
    "scrolled": true
   },
   "outputs": [
    {
     "data": {
      "text/plain": [
       "0.0"
      ]
     },
     "execution_count": 7,
     "metadata": {},
     "output_type": "execute_result"
    }
   ],
   "source": [
    "myentropy([1,0])"
   ]
  },
  {
   "cell_type": "markdown",
   "metadata": {},
   "source": [
    "# Problem 1, question c)"
   ]
  },
  {
   "cell_type": "code",
   "execution_count": 8,
   "metadata": {},
   "outputs": [
    {
     "data": {
      "text/plain": [
       "0.46899559358928117"
      ]
     },
     "execution_count": 8,
     "metadata": {},
     "output_type": "execute_result"
    }
   ],
   "source": [
    "entropy([9/10, 1/10], base=2)"
   ]
  },
  {
   "cell_type": "code",
   "execution_count": 9,
   "metadata": {},
   "outputs": [
    {
     "data": {
      "text/plain": [
       "0.0"
      ]
     },
     "execution_count": 9,
     "metadata": {},
     "output_type": "execute_result"
    }
   ],
   "source": [
    "entropy([1,0], base=2)"
   ]
  },
  {
   "cell_type": "code",
   "execution_count": 10,
   "metadata": {},
   "outputs": [],
   "source": [
    "pvals=np.linspace(0, 1, 20)\n",
    "entropies=np.zeros(np.size(pvals))\n",
    "for i in range(np.size(pvals)):\n",
    "    entropies[i]=entropy([pvals[i], 1-pvals[i]], base=2)"
   ]
  },
  {
   "cell_type": "markdown",
   "metadata": {},
   "source": [
    "# Problem 1, question d)"
   ]
  },
  {
   "cell_type": "code",
   "execution_count": 11,
   "metadata": {},
   "outputs": [
    {
     "data": {
      "image/png": "[encoded data removed]",
      "text/plain": [
       "<Figure size 432x288 with 1 Axes>"
      ]
     },
     "metadata": {
      "needs_background": "light"
     },
     "output_type": "display_data"
    }
   ],
   "source": [
    "plt.plot(pvals, entropies,'b.-')\n",
    "ax = plt.gca()\n",
    "ax.set_xlabel(\"p\")\n",
    "ax.set_ylabel(\"Entropy of the Bernoulli distribution\")\n",
    "plt.show()"
   ]
  },
  {
   "cell_type": "markdown",
   "metadata": {},
   "source": [
    "# Problem 1, question e)"
   ]
  },
  {
   "cell_type": "code",
   "execution_count": 12,
   "metadata": {},
   "outputs": [],
   "source": [
    "from scipy.stats import binom"
   ]
  },
  {
   "cell_type": "code",
   "execution_count": 13,
   "metadata": {},
   "outputs": [
    {
     "data": {
      "image/png": "[encoded data removed]",
      "text/plain": [
       "<Figure size 432x288 with 1 Axes>"
      ]
     },
     "metadata": {
      "needs_background": "light"
     },
     "output_type": "display_data"
    }
   ],
   "source": [
    "plt.bar(range(5),binom.pmf(range(5),4,0.1),label='Data')\n",
    "plt.show()"
   ]
  },
  {
   "cell_type": "code",
   "execution_count": 14,
   "metadata": {},
   "outputs": [
    {
     "data": {
      "text/plain": [
       "1.1599531968220769"
      ]
     },
     "execution_count": 14,
     "metadata": {},
     "output_type": "execute_result"
    }
   ],
   "source": [
    "entropy(binom.pmf(range(5),4,0.1), base=2)"
   ]
  },
  {
   "cell_type": "code",
   "execution_count": 15,
   "metadata": {
    "scrolled": true
   },
   "outputs": [
    {
     "data": {
      "image/png": "[encoded data removed]",
      "text/plain": [
       "<Figure size 432x288 with 1 Axes>"
      ]
     },
     "metadata": {
      "needs_background": "light"
     },
     "output_type": "display_data"
    }
   ],
   "source": [
    "plt.bar(range(5),binom.pmf(range(5),4,0.5),label='Data')\n",
    "plt.show()"
   ]
  },
  {
   "cell_type": "code",
   "execution_count": 16,
   "metadata": {
    "scrolled": true
   },
   "outputs": [
    {
     "data": {
      "text/plain": [
       "2.0306390622295667"
      ]
     },
     "execution_count": 16,
     "metadata": {},
     "output_type": "execute_result"
    }
   ],
   "source": [
    "entropy(binom.pmf(range(5),4,0.5), base=2)"
   ]
  },
  {
   "cell_type": "markdown",
   "metadata": {},
   "source": [
    "# Problem 2"
   ]
  },
  {
   "cell_type": "markdown",
   "metadata": {},
   "source": [
    "a) Each time we draw the random variable X, there is a probability p_i to obtain i, and (1-p_i) to obtain another value. Thus, if we draw it N times, the number n_i of times where x=i will follow a binomial distribution with parameters N and p_i."
   ]
  },
  {
   "cell_type": "markdown",
   "metadata": {},
   "source": [
    "b) In this limit, n_i follows a Poisson distribution with mean Np_i and variance Np_i. \n",
    "Since f_i=n_i/N, the mean of f_i is thus p_i and its variance is p_i/N."
   ]
  },
  {
   "cell_type": "markdown",
   "metadata": {},
   "source": [
    "c) The mean of f_i is p_i, and thus, the mean of delta_i is zero. To compute the variance of f_i we can compute the mean of f_i^2, which is $\\langle f_i^2\\rangle=\\langle(p_i+\\delta_i)^2\\rangle=p_i^2+2p_i\\langle\\delta_i\\rangle+\\langle\\delta_i^2\\rangle=p_i^2+\\langle\\delta_i^2\\rangle$. Thus, $\\Delta f_i^2=\\langle f_i^2\\rangle-\\langle f_i\\rangle^2=\\langle\\delta_i^2\\rangle$. But we know that the variance of f_i is p_i/N. Thus, we have $\\langle\\delta_i^2\\rangle=p_i/N$, and the variance of $\\delta_i$ is also p_i/N (because the mean of delta_i is zero)."
   ]
  },
  {
   "cell_type": "markdown",
   "metadata": {},
   "source": [
    "d) $\\hat{H}(X)=-\\sum_i f_i log_2(f_i)=-\\sum_i (p_i+\\delta_i) log_2(p_i+\\delta_i)=-\\sum_i p_i log_2[p_i(1+\\delta_i/p_i)]-\\sum_i \\delta_i log_2[p_i(1+\\delta_i/p_i)]$.\n",
    "Thus, $\\hat{H}(X)=H(X)-\\sum_i p_i log_2(1+\\delta_i/p_i)-\\sum_i \\delta_i log_2p_i-\\sum_i\\delta_ilog_2(1+\\delta_i/p_i)$. To second order in $\\delta_i/p_i$, we get $\\hat{H}(X)\\approx H(X)-[1/\\ln(2)]\\sum_i(\\delta_i-\\delta_i^2/(2p_i))-\\sum_i \\delta_i log_2p_i-[1/\\ln(2)]\\sum_i\\delta_i^2/p_i$, which gives\n",
    "$\\hat{H}(X)\\approx H(X)-\\sum_i\\delta_i[1/\\ln(2)-log_2(p_i)]-[1/(2\\ln(2))]\\sum_i\\delta_i^2/p_i$.\n",
    "Taking the average gives\n",
    "$\\langle\\hat{H}(X)\\rangle\\approx H(X)-[1/(2\\ln(2))]\\sum_i1/N\\approx H(X)-[1/(2\\ln(2))]K/N$. Thus, we obtain equation 1, with $\\alpha=1/(2\\ln(2))$."
   ]
  },
  {
   "cell_type": "code",
   "execution_count": 2,
   "metadata": {},
   "outputs": [
    {
     "data": {
      "text/plain": [
       "0.7213475204444817"
      ]
     },
     "execution_count": 2,
     "metadata": {},
     "output_type": "execute_result"
    }
   ],
   "source": [
    "1/(2*math.log(2))"
   ]
  },
  {
   "cell_type": "markdown",
   "metadata": {},
   "source": [
    "e) When we estimate entropy from a finite number N of observations, we face an error even on average over many samplings of N observations. This is a systematic error, the entropy is on average underestimated, and this underestimation is bigger if N is smaller and/or if K is larger. "
   ]
  },
  {
   "cell_type": "markdown",
   "metadata": {},
   "source": [
    "## Problem 2, question f)"
   ]
  },
  {
   "cell_type": "code",
   "execution_count": 3,
   "metadata": {
    "scrolled": true
   },
   "outputs": [
    {
     "name": "stdout",
     "output_type": "stream",
     "text": [
      "20\n",
      "30\n",
      "40\n",
      "50\n",
      "60\n",
      "75\n",
      "100\n"
     ]
    }
   ],
   "source": [
    "repl=50\n",
    "Ns=[20,30,40,50,60,75,100]  #Ns=[100000]\n",
    "entropies=np.zeros((repl,np.size(Ns)))\n",
    "for iN in range(np.size(Ns)):\n",
    "    Nsamples=Ns[iN]\n",
    "    print(Nsamples)\n",
    "    for j in range(repl):\n",
    "        samples=np.zeros(Nsamples)\n",
    "        for i in range(Nsamples):\n",
    "            samples[i]=randint(0, 9)\n",
    "        hist, bin_edges = np.histogram(samples, bins=np.linspace(-0.5,9.5,11), density=True)\n",
    "        #hist, bin_edges = np.histogram(samples, bins=10, range=(0,10), density=True)\n",
    "        entropies[j,iN]=entropy(hist, base=2)"
   ]
  },
  {
   "cell_type": "markdown",
   "metadata": {},
   "source": [
    "## Problem 2, question g)"
   ]
  },
  {
   "cell_type": "code",
   "execution_count": 4,
   "metadata": {},
   "outputs": [
    {
     "data": {
      "text/plain": [
       "array([[2.00000000e+01, 5.00000000e-02, 2.90973064e+00, 1.63389672e-01],\n",
       "       [3.00000000e+01, 3.33333333e-02, 3.10930197e+00, 9.74720100e-02],\n",
       "       [4.00000000e+01, 2.50000000e-02, 3.13854413e+00, 8.85517167e-02],\n",
       "       [5.00000000e+01, 2.00000000e-02, 3.18056997e+00, 7.72068918e-02],\n",
       "       [6.00000000e+01, 1.66666667e-02, 3.21047230e+00, 5.07703431e-02],\n",
       "       [7.50000000e+01, 1.33333333e-02, 3.23635487e+00, 4.82903615e-02],\n",
       "       [1.00000000e+02, 1.00000000e-02, 3.25091397e+00, 3.42502299e-02]])"
      ]
     },
     "execution_count": 4,
     "metadata": {},
     "output_type": "execute_result"
    }
   ],
   "source": [
    "table=np.zeros((np.size(Ns),4))\n",
    "table[:,0]=Ns\n",
    "table[:,1]=np.divide(1,Ns)\n",
    "table[:,2]=np.mean(entropies,0)\n",
    "table[:,3]=np.std(entropies,0)\n",
    "table"
   ]
  },
  {
   "cell_type": "markdown",
   "metadata": {},
   "source": [
    "## Problem 2, question h)"
   ]
  },
  {
   "cell_type": "code",
   "execution_count": 5,
   "metadata": {},
   "outputs": [
    {
     "data": {
      "image/png": "[encoded data removed]",
      "text/plain": [
       "<Figure size 432x288 with 1 Axes>"
      ]
     },
     "metadata": {
      "needs_background": "light"
     },
     "output_type": "display_data"
    }
   ],
   "source": [
    "plt.errorbar(table[:,1],table[:,2],table[:,3],marker='o',linestyle='None')\n",
    "ax = plt.gca()\n",
    "ax.set_xlabel(\"1/N\")\n",
    "ax.set_ylabel(\"Estimated entropy (bits)\")\n",
    "plt.show()"
   ]
  },
  {
   "cell_type": "markdown",
   "metadata": {},
   "source": [
    "## Problem 2, question i)"
   ]
  },
  {
   "cell_type": "markdown",
   "metadata": {},
   "source": [
    "The exact value of the entropy of X is log_2(10), since X is a uniformly distributed random variable that can take 10 distinct states."
   ]
  },
  {
   "cell_type": "code",
   "execution_count": 6,
   "metadata": {},
   "outputs": [
    {
     "data": {
      "text/plain": [
       "3.3219280948873626"
      ]
     },
     "execution_count": 6,
     "metadata": {},
     "output_type": "execute_result"
    }
   ],
   "source": [
    "math.log(10,2)"
   ]
  },
  {
   "cell_type": "code",
   "execution_count": 7,
   "metadata": {},
   "outputs": [
    {
     "data": {
      "image/png": "[encoded data removed]",
      "text/plain": [
       "<Figure size 432x288 with 1 Axes>"
      ]
     },
     "metadata": {
      "needs_background": "light"
     },
     "output_type": "display_data"
    }
   ],
   "source": [
    "plt.errorbar(table[:,1],table[:,2],table[:,3],marker='o',linestyle='None',label='Estimate')\n",
    "plt.plot(table[:,1],math.log(10,2)*np.ones(table[:,1].size),linestyle='--',label='Theoretical value')\n",
    "ax = plt.gca()\n",
    "ax.set_xlabel(\"1/N\")\n",
    "ax.set_ylabel(\"Estimated entropy (bits)\")\n",
    "ax.legend()\n",
    "plt.show()"
   ]
  },
  {
   "cell_type": "markdown",
   "metadata": {},
   "source": [
    "## Problem 2, question j)"
   ]
  },
  {
   "cell_type": "code",
   "execution_count": 8,
   "metadata": {},
   "outputs": [
    {
     "data": {
      "image/png": "[encoded data removed]",
      "text/plain": [
       "<Figure size 432x288 with 1 Axes>"
      ]
     },
     "metadata": {
      "needs_background": "light"
     },
     "output_type": "display_data"
    }
   ],
   "source": [
    "plt.errorbar(table[:,1],table[:,2],table[:,3],marker='o',linestyle='None',label='Estimate')\n",
    "plt.plot(table[:,1],math.log(10,2)*np.ones(table[:,1].size),linestyle='--',label='True value')\n",
    "plt.plot(table[:,1],math.log(10,2)*np.ones(table[:,1].size)-1/(2*math.log(2))*10*table[:,1],linestyle='-',label='Expectation')\n",
    "ax = plt.gca()\n",
    "ax.set_xlabel(\"1/N\")\n",
    "ax.set_ylabel(\"Estimated entropy (bits)\")\n",
    "ax.legend()\n",
    "plt.show()"
   ]
  },
  {
   "cell_type": "markdown",
   "metadata": {},
   "source": [
    "The line matches well the results obtained from our estimates, which confirms that Equation 1 in the text describes well the finite-size effects."
   ]
  },
  {
   "cell_type": "markdown",
   "metadata": {},
   "source": [
    "## Problem 2, question k)"
   ]
  },
  {
   "cell_type": "markdown",
   "metadata": {},
   "source": [
    "In practice, if we only have access to 100 draws of X, we can subsample them to obtain multiple estimates of $\\hat{H}(X)$ for various values of N smaller than this maximal number 100, and this will yield a plot similar to what we have produced. Then, by making a linear fit of $\\langle\\hat{H}(X)\\rangle$ for each value of 1/N, we can estimate $H(X)$ as the intercept of this line."
   ]
  },
  {
   "cell_type": "code",
   "execution_count": 9,
   "metadata": {},
   "outputs": [],
   "source": [
    "from sklearn.linear_model import LinearRegression\n",
    "linear_regressor = LinearRegression()  # create object for the class\n",
    "model=linear_regressor.fit(table[:,1:2],table[:,2])  # perform linear regression\n",
    "Y_pred = linear_regressor.predict(table[:,1:2])  # make predictions"
   ]
  },
  {
   "cell_type": "code",
   "execution_count": 10,
   "metadata": {},
   "outputs": [
    {
     "data": {
      "image/png": "[encoded data removed]",
      "text/plain": [
       "<Figure size 432x288 with 1 Axes>"
      ]
     },
     "metadata": {
      "needs_background": "light"
     },
     "output_type": "display_data"
    }
   ],
   "source": [
    "plt.errorbar(table[:,1],table[:,2],table[:,3],marker='o',linestyle='None',label='Estimate')\n",
    "plt.plot(table[:,1],math.log(10,2)*np.ones(table[:,1].size),linestyle='--',label='True value')\n",
    "plt.plot(table[:,1],math.log(10,2)*np.ones(table[:,1].size)-1/(2*math.log(2))*10*table[:,1],linestyle='-',label='Expectation')\n",
    "plt.plot(table[:,1],Y_pred,label='Linear regression')\n",
    "ax = plt.gca()\n",
    "ax.set_xlabel(\"1/N\")\n",
    "ax.set_ylabel(\"Estimated entropy (bits)\")\n",
    "ax.legend()\n",
    "plt.show()"
   ]
  },
  {
   "cell_type": "markdown",
   "metadata": {},
   "source": [
    "We observe a deviation between the linear fit and the theoretical expectation, and it is mostly due to the smaller-N values we considered. This is because equation 1 is an expansion in powers of 1/N, and we restricted to the leading-order correction, but another term in 1/N^2 exists etc., and they become important for smaller N values."
   ]
  },
  {
   "cell_type": "code",
   "execution_count": 11,
   "metadata": {},
   "outputs": [
    {
     "name": "stdout",
     "output_type": "stream",
     "text": [
      "intercept: 3.3485252532720677\n"
     ]
    }
   ],
   "source": [
    "print('intercept:', model.intercept_) #this is our estimate of the entropy, corrected for finite size effects by the linear fit"
   ]
  },
  {
   "cell_type": "markdown",
   "metadata": {},
   "source": [
    "## Problem 2, question l)"
   ]
  },
  {
   "cell_type": "code",
   "execution_count": 44,
   "metadata": {},
   "outputs": [
    {
     "data": {
      "text/plain": [
       "(5108, 30)"
      ]
     },
     "execution_count": 44,
     "metadata": {},
     "output_type": "execute_result"
    }
   ],
   "source": [
    "np.shape(seqarray)"
   ]
  },
  {
   "cell_type": "code",
   "execution_count": 45,
   "metadata": {},
   "outputs": [
    {
     "data": {
      "text/plain": [
       "0.004111198120595145"
      ]
     },
     "execution_count": 45,
     "metadata": {},
     "output_type": "execute_result"
    }
   ],
   "source": [
    "21/5108"
   ]
  },
  {
   "cell_type": "code",
   "execution_count": 51,
   "metadata": {},
   "outputs": [
    {
     "data": {
      "text/plain": [
       "0.21"
      ]
     },
     "execution_count": 51,
     "metadata": {},
     "output_type": "execute_result"
    }
   ],
   "source": [
    "21/100"
   ]
  },
  {
   "cell_type": "code",
   "execution_count": 46,
   "metadata": {},
   "outputs": [
    {
     "data": {
      "text/plain": [
       "0.0007830853563038371"
      ]
     },
     "execution_count": 46,
     "metadata": {},
     "output_type": "execute_result"
    }
   ],
   "source": [
    "4/5108"
   ]
  },
  {
   "cell_type": "code",
   "execution_count": 26,
   "metadata": {},
   "outputs": [
    {
     "data": {
      "text/plain": [
       "4.392317422778761"
      ]
     },
     "execution_count": 26,
     "metadata": {},
     "output_type": "execute_result"
    }
   ],
   "source": [
    "math.log(21,2)"
   ]
  },
  {
   "cell_type": "markdown",
   "metadata": {},
   "source": [
    "Here, for each column, K=21 and N=5108. Hence, K/N=0.004, to be compared with entropies of order log_2(21)=4.4 bits at maximum. The finite size effects are not too large, on the order of 0.1% in relative terms. If there were only 100 sequences in the dataset, K/N=0.21 and the finite size effects would be substantial. In the case of nucleotide sequences, K=4 instead of 21. So, for the same N as in the dataset we considered, we would have an even smaller impact of finite size effects - and even for N=100 they would not be too large, as K/N=0.04, so about 1%. "
   ]
  },
  {
   "cell_type": "markdown",
   "metadata": {},
   "source": [
    "# Problem 3, question c)"
   ]
  },
  {
   "cell_type": "code",
   "execution_count": 27,
   "metadata": {},
   "outputs": [],
   "source": [
    "import pandas as pd\n",
    "data_vis=pd.read_csv('Data7.csv', sep='\\t',header=None)"
   ]
  },
  {
   "cell_type": "code",
   "execution_count": 28,
   "metadata": {
    "scrolled": true
   },
   "outputs": [
    {
     "data": {
      "text/html": [
       "<div>\n",
       "<style scoped>\n",
       "    .dataframe tbody tr th:only-of-type {\n",
       "        vertical-align: middle;\n",
       "    }\n",
       "\n",
       "    .dataframe tbody tr th {\n",
       "        vertical-align: top;\n",
       "    }\n",
       "\n",
       "    .dataframe thead th {\n",
       "        text-align: right;\n",
       "    }\n",
       "</style>\n",
       "<table border=\"1\" class=\"dataframe\">\n",
       "  <thead>\n",
       "    <tr style=\"text-align: right;\">\n",
       "      <th></th>\n",
       "      <th>0</th>\n",
       "      <th>1</th>\n",
       "      <th>2</th>\n",
       "      <th>3</th>\n",
       "      <th>4</th>\n",
       "      <th>5</th>\n",
       "      <th>6</th>\n",
       "      <th>7</th>\n",
       "      <th>8</th>\n",
       "      <th>9</th>\n",
       "      <th>...</th>\n",
       "      <th>108</th>\n",
       "      <th>109</th>\n",
       "      <th>110</th>\n",
       "      <th>111</th>\n",
       "      <th>112</th>\n",
       "      <th>113</th>\n",
       "      <th>114</th>\n",
       "      <th>115</th>\n",
       "      <th>116</th>\n",
       "      <th>117</th>\n",
       "    </tr>\n",
       "  </thead>\n",
       "  <tbody>\n",
       "    <tr>\n",
       "      <th>0</th>\n",
       "      <td>Population</td>\n",
       "      <td>Barcodes</td>\n",
       "      <td>EvolutionFitness(percent)</td>\n",
       "      <td>EvolutionFitnessConfidenceInterval(percent)</td>\n",
       "      <td>BarcodingFitness(per barcoding procedure)</td>\n",
       "      <td>BarcodingFitnessConfidenceInterval(per barcodi...</td>\n",
       "      <td>Frequency(t=1.0)</td>\n",
       "      <td>Frequency(t=1.10)</td>\n",
       "      <td>Frequency(t=1.20)</td>\n",
       "      <td>Frequency(t=1.30)</td>\n",
       "      <td>...</td>\n",
       "      <td>Frequency(t=10.30)</td>\n",
       "      <td>Frequency(t=10.40)</td>\n",
       "      <td>Frequency(t=10.50)</td>\n",
       "      <td>Frequency(t=10.60)</td>\n",
       "      <td>Frequency(t=10.70)</td>\n",
       "      <td>Frequency(t=10.80)</td>\n",
       "      <td>Frequency(t=10.90)</td>\n",
       "      <td>Frequency(t=10.100)</td>\n",
       "      <td>Frequency(extra1)</td>\n",
       "      <td>Frequency(extra2)</td>\n",
       "    </tr>\n",
       "    <tr>\n",
       "      <th>1</th>\n",
       "      <td>YPD</td>\n",
       "      <td>ancestor</td>\n",
       "      <td>0.0</td>\n",
       "      <td>-0.0500000000</td>\n",
       "      <td>0.0000000000</td>\n",
       "      <td>0.0</td>\n",
       "      <td>-0.0350000000</td>\n",
       "      <td>0.0300000000</td>\n",
       "      <td>0.9996687868</td>\n",
       "      <td>0.9996741128</td>\n",
       "      <td>...</td>\n",
       "      <td>NaN</td>\n",
       "      <td>NaN</td>\n",
       "      <td>NaN</td>\n",
       "      <td>NaN</td>\n",
       "      <td>NaN</td>\n",
       "      <td>NaN</td>\n",
       "      <td>NaN</td>\n",
       "      <td>NaN</td>\n",
       "      <td>NaN</td>\n",
       "      <td>NaN</td>\n",
       "    </tr>\n",
       "    <tr>\n",
       "      <th>2</th>\n",
       "      <td>YPD</td>\n",
       "      <td>CCTGGAGCAGTCTAAT</td>\n",
       "      <td>0.75</td>\n",
       "      <td>0.5000000000</td>\n",
       "      <td>0.9500000000</td>\n",
       "      <td>0.23</td>\n",
       "      <td>-0.0350000000</td>\n",
       "      <td>0.4600000000</td>\n",
       "      <td>0.0000398595</td>\n",
       "      <td>0.0000331922</td>\n",
       "      <td>...</td>\n",
       "      <td>NaN</td>\n",
       "      <td>NaN</td>\n",
       "      <td>NaN</td>\n",
       "      <td>NaN</td>\n",
       "      <td>NaN</td>\n",
       "      <td>NaN</td>\n",
       "      <td>NaN</td>\n",
       "      <td>NaN</td>\n",
       "      <td>NaN</td>\n",
       "      <td>NaN</td>\n",
       "    </tr>\n",
       "    <tr>\n",
       "      <th>3</th>\n",
       "      <td>YPD</td>\n",
       "      <td>ACGAGGCGTGTAATCA</td>\n",
       "      <td>-0.10000000000000009</td>\n",
       "      <td>-0.3000000000</td>\n",
       "      <td>0.0500000000</td>\n",
       "      <td>1.13</td>\n",
       "      <td>0.9600000000</td>\n",
       "      <td>1.2900000000</td>\n",
       "      <td>0.0000351143</td>\n",
       "      <td>0.0000694019</td>\n",
       "      <td>...</td>\n",
       "      <td>NaN</td>\n",
       "      <td>NaN</td>\n",
       "      <td>NaN</td>\n",
       "      <td>NaN</td>\n",
       "      <td>NaN</td>\n",
       "      <td>NaN</td>\n",
       "      <td>NaN</td>\n",
       "      <td>NaN</td>\n",
       "      <td>NaN</td>\n",
       "      <td>NaN</td>\n",
       "    </tr>\n",
       "    <tr>\n",
       "      <th>4</th>\n",
       "      <td>YPD</td>\n",
       "      <td>GTGCCTAGACCAACTT</td>\n",
       "      <td>0.0</td>\n",
       "      <td>-0.2000000000</td>\n",
       "      <td>0.2000000000</td>\n",
       "      <td>1.095</td>\n",
       "      <td>0.9000000000</td>\n",
       "      <td>1.2700000000</td>\n",
       "      <td>0.0001746224</td>\n",
       "      <td>0.0001468504</td>\n",
       "      <td>...</td>\n",
       "      <td>NaN</td>\n",
       "      <td>NaN</td>\n",
       "      <td>NaN</td>\n",
       "      <td>NaN</td>\n",
       "      <td>NaN</td>\n",
       "      <td>NaN</td>\n",
       "      <td>NaN</td>\n",
       "      <td>NaN</td>\n",
       "      <td>NaN</td>\n",
       "      <td>NaN</td>\n",
       "    </tr>\n",
       "    <tr>\n",
       "      <th>...</th>\n",
       "      <td>...</td>\n",
       "      <td>...</td>\n",
       "      <td>...</td>\n",
       "      <td>...</td>\n",
       "      <td>...</td>\n",
       "      <td>...</td>\n",
       "      <td>...</td>\n",
       "      <td>...</td>\n",
       "      <td>...</td>\n",
       "      <td>...</td>\n",
       "      <td>...</td>\n",
       "      <td>...</td>\n",
       "      <td>...</td>\n",
       "      <td>...</td>\n",
       "      <td>...</td>\n",
       "      <td>...</td>\n",
       "      <td>...</td>\n",
       "      <td>...</td>\n",
       "      <td>...</td>\n",
       "      <td>...</td>\n",
       "      <td>...</td>\n",
       "    </tr>\n",
       "    <tr>\n",
       "      <th>194</th>\n",
       "      <td>YPA</td>\n",
       "      <td>CGCGGTGGAACGGAGG_CGCAACATGTAAACTT_AACGATGATACG...</td>\n",
       "      <td>6.550000000000001</td>\n",
       "      <td>5.2000000000</td>\n",
       "      <td>7.8500000000</td>\n",
       "      <td>-0.14999999999999947</td>\n",
       "      <td>-2.6000000000</td>\n",
       "      <td>0.9200000000</td>\n",
       "      <td>0.0000000000</td>\n",
       "      <td>0.0000000000</td>\n",
       "      <td>...</td>\n",
       "      <td>0.0000652686</td>\n",
       "      <td>0.0000475622</td>\n",
       "      <td>0.0000506144</td>\n",
       "      <td>0.0000213532</td>\n",
       "      <td>0.0000085814</td>\n",
       "      <td>0.0000518634</td>\n",
       "      <td>0.0000226326</td>\n",
       "      <td>0.0000240688</td>\n",
       "      <td>0.0000220503</td>\n",
       "      <td>0.0000199094</td>\n",
       "    </tr>\n",
       "    <tr>\n",
       "      <th>195</th>\n",
       "      <td>YPA</td>\n",
       "      <td>TCTAGCGCGGCCGAAT_CTATGAGGTAGAAACA_CCGGAAAGAGTA...</td>\n",
       "      <td>7.3</td>\n",
       "      <td>6.4000000000</td>\n",
       "      <td>8.2000000000</td>\n",
       "      <td>-0.8049999999999997</td>\n",
       "      <td>-2.8100000000</td>\n",
       "      <td>0.1650000000</td>\n",
       "      <td>0.0000000000</td>\n",
       "      <td>0.0000000000</td>\n",
       "      <td>...</td>\n",
       "      <td>0.0000000000</td>\n",
       "      <td>0.0000000000</td>\n",
       "      <td>0.0000000000</td>\n",
       "      <td>0.0000000000</td>\n",
       "      <td>0.0000000000</td>\n",
       "      <td>0.0000000000</td>\n",
       "      <td>0.0000000000</td>\n",
       "      <td>0.0000000000</td>\n",
       "      <td>0.0000000000</td>\n",
       "      <td>0.0000000000</td>\n",
       "    </tr>\n",
       "    <tr>\n",
       "      <th>196</th>\n",
       "      <td>YPA</td>\n",
       "      <td>TCCATTGAGAACAACT_TGCACACCCATGAGTA_GGTTGCAAGCAT...</td>\n",
       "      <td>7.5</td>\n",
       "      <td>6.7000000000</td>\n",
       "      <td>8.2500000000</td>\n",
       "      <td>4.76</td>\n",
       "      <td>4.0500000000</td>\n",
       "      <td>5.0000000000</td>\n",
       "      <td>0.0000000000</td>\n",
       "      <td>0.0000000000</td>\n",
       "      <td>...</td>\n",
       "      <td>0.0008212964</td>\n",
       "      <td>0.0009469206</td>\n",
       "      <td>0.0011247645</td>\n",
       "      <td>0.0009423863</td>\n",
       "      <td>0.0010211919</td>\n",
       "      <td>0.0008755766</td>\n",
       "      <td>0.0010207315</td>\n",
       "      <td>0.0010861030</td>\n",
       "      <td>0.0011119651</td>\n",
       "      <td>0.0008361953</td>\n",
       "    </tr>\n",
       "    <tr>\n",
       "      <th>197</th>\n",
       "      <td>YPA</td>\n",
       "      <td>TCCATTGAGAACAACT_TGCACACCCATGAGTA_GGTTGCAAGCAT...</td>\n",
       "      <td>8.65</td>\n",
       "      <td>7.8500000000</td>\n",
       "      <td>9.4000000000</td>\n",
       "      <td>3.07</td>\n",
       "      <td>2.0450000000</td>\n",
       "      <td>3.7450000000</td>\n",
       "      <td>0.0000000000</td>\n",
       "      <td>0.0000000000</td>\n",
       "      <td>...</td>\n",
       "      <td>0.0008158574</td>\n",
       "      <td>0.0007372144</td>\n",
       "      <td>0.0007212552</td>\n",
       "      <td>0.0007473607</td>\n",
       "      <td>0.0007465857</td>\n",
       "      <td>0.0007779513</td>\n",
       "      <td>0.0007423502</td>\n",
       "      <td>0.0008273638</td>\n",
       "      <td>0.0008536616</td>\n",
       "      <td>0.0008361953</td>\n",
       "    </tr>\n",
       "    <tr>\n",
       "      <th>198</th>\n",
       "      <td>YPA</td>\n",
       "      <td>TCCATTGAGAACAACT_TGCACACCCATGAGTA_GGTTGCAAGCAT...</td>\n",
       "      <td>8.4</td>\n",
       "      <td>7.4000000000</td>\n",
       "      <td>9.3000000000</td>\n",
       "      <td>3.05</td>\n",
       "      <td>1.8950000000</td>\n",
       "      <td>3.7800000000</td>\n",
       "      <td>0.0000000000</td>\n",
       "      <td>0.0000000000</td>\n",
       "      <td>...</td>\n",
       "      <td>0.0006091735</td>\n",
       "      <td>0.0005772324</td>\n",
       "      <td>0.0004147569</td>\n",
       "      <td>0.0005096289</td>\n",
       "      <td>0.0004848516</td>\n",
       "      <td>0.0004515169</td>\n",
       "      <td>0.0004345464</td>\n",
       "      <td>0.0005174784</td>\n",
       "      <td>0.0005229071</td>\n",
       "      <td>0.0004380071</td>\n",
       "    </tr>\n",
       "  </tbody>\n",
       "</table>\n",
       "<p>199 rows × 118 columns</p>\n",
       "</div>"
      ],
      "text/plain": [
       "            0                                                  1    \\\n",
       "0    Population                                           Barcodes   \n",
       "1           YPD                                           ancestor   \n",
       "2           YPD                                   CCTGGAGCAGTCTAAT   \n",
       "3           YPD                                   ACGAGGCGTGTAATCA   \n",
       "4           YPD                                   GTGCCTAGACCAACTT   \n",
       "..          ...                                                ...   \n",
       "194         YPA  CGCGGTGGAACGGAGG_CGCAACATGTAAACTT_AACGATGATACG...   \n",
       "195         YPA  TCTAGCGCGGCCGAAT_CTATGAGGTAGAAACA_CCGGAAAGAGTA...   \n",
       "196         YPA  TCCATTGAGAACAACT_TGCACACCCATGAGTA_GGTTGCAAGCAT...   \n",
       "197         YPA  TCCATTGAGAACAACT_TGCACACCCATGAGTA_GGTTGCAAGCAT...   \n",
       "198         YPA  TCCATTGAGAACAACT_TGCACACCCATGAGTA_GGTTGCAAGCAT...   \n",
       "\n",
       "                           2                                            3    \\\n",
       "0    EvolutionFitness(percent)  EvolutionFitnessConfidenceInterval(percent)   \n",
       "1                          0.0                                -0.0500000000   \n",
       "2                         0.75                                 0.5000000000   \n",
       "3         -0.10000000000000009                                -0.3000000000   \n",
       "4                          0.0                                -0.2000000000   \n",
       "..                         ...                                          ...   \n",
       "194          6.550000000000001                                 5.2000000000   \n",
       "195                        7.3                                 6.4000000000   \n",
       "196                        7.5                                 6.7000000000   \n",
       "197                       8.65                                 7.8500000000   \n",
       "198                        8.4                                 7.4000000000   \n",
       "\n",
       "                                           4    \\\n",
       "0    BarcodingFitness(per barcoding procedure)   \n",
       "1                                 0.0000000000   \n",
       "2                                 0.9500000000   \n",
       "3                                 0.0500000000   \n",
       "4                                 0.2000000000   \n",
       "..                                         ...   \n",
       "194                               7.8500000000   \n",
       "195                               8.2000000000   \n",
       "196                               8.2500000000   \n",
       "197                               9.4000000000   \n",
       "198                               9.3000000000   \n",
       "\n",
       "                                                   5                 6    \\\n",
       "0    BarcodingFitnessConfidenceInterval(per barcodi...  Frequency(t=1.0)   \n",
       "1                                                  0.0     -0.0350000000   \n",
       "2                                                 0.23     -0.0350000000   \n",
       "3                                                 1.13      0.9600000000   \n",
       "4                                                1.095      0.9000000000   \n",
       "..                                                 ...               ...   \n",
       "194                               -0.14999999999999947     -2.6000000000   \n",
       "195                                -0.8049999999999997     -2.8100000000   \n",
       "196                                               4.76      4.0500000000   \n",
       "197                                               3.07      2.0450000000   \n",
       "198                                               3.05      1.8950000000   \n",
       "\n",
       "                   7                  8                  9    ...  \\\n",
       "0    Frequency(t=1.10)  Frequency(t=1.20)  Frequency(t=1.30)  ...   \n",
       "1         0.0300000000       0.9996687868       0.9996741128  ...   \n",
       "2         0.4600000000       0.0000398595       0.0000331922  ...   \n",
       "3         1.2900000000       0.0000351143       0.0000694019  ...   \n",
       "4         1.2700000000       0.0001746224       0.0001468504  ...   \n",
       "..                 ...                ...                ...  ...   \n",
       "194       0.9200000000       0.0000000000       0.0000000000  ...   \n",
       "195       0.1650000000       0.0000000000       0.0000000000  ...   \n",
       "196       5.0000000000       0.0000000000       0.0000000000  ...   \n",
       "197       3.7450000000       0.0000000000       0.0000000000  ...   \n",
       "198       3.7800000000       0.0000000000       0.0000000000  ...   \n",
       "\n",
       "                    108                 109                 110  \\\n",
       "0    Frequency(t=10.30)  Frequency(t=10.40)  Frequency(t=10.50)   \n",
       "1                   NaN                 NaN                 NaN   \n",
       "2                   NaN                 NaN                 NaN   \n",
       "3                   NaN                 NaN                 NaN   \n",
       "4                   NaN                 NaN                 NaN   \n",
       "..                  ...                 ...                 ...   \n",
       "194        0.0000652686        0.0000475622        0.0000506144   \n",
       "195        0.0000000000        0.0000000000        0.0000000000   \n",
       "196        0.0008212964        0.0009469206        0.0011247645   \n",
       "197        0.0008158574        0.0007372144        0.0007212552   \n",
       "198        0.0006091735        0.0005772324        0.0004147569   \n",
       "\n",
       "                    111                 112                 113  \\\n",
       "0    Frequency(t=10.60)  Frequency(t=10.70)  Frequency(t=10.80)   \n",
       "1                   NaN                 NaN                 NaN   \n",
       "2                   NaN                 NaN                 NaN   \n",
       "3                   NaN                 NaN                 NaN   \n",
       "4                   NaN                 NaN                 NaN   \n",
       "..                  ...                 ...                 ...   \n",
       "194        0.0000213532        0.0000085814        0.0000518634   \n",
       "195        0.0000000000        0.0000000000        0.0000000000   \n",
       "196        0.0009423863        0.0010211919        0.0008755766   \n",
       "197        0.0007473607        0.0007465857        0.0007779513   \n",
       "198        0.0005096289        0.0004848516        0.0004515169   \n",
       "\n",
       "                    114                  115                116  \\\n",
       "0    Frequency(t=10.90)  Frequency(t=10.100)  Frequency(extra1)   \n",
       "1                   NaN                  NaN                NaN   \n",
       "2                   NaN                  NaN                NaN   \n",
       "3                   NaN                  NaN                NaN   \n",
       "4                   NaN                  NaN                NaN   \n",
       "..                  ...                  ...                ...   \n",
       "194        0.0000226326         0.0000240688       0.0000220503   \n",
       "195        0.0000000000         0.0000000000       0.0000000000   \n",
       "196        0.0010207315         0.0010861030       0.0011119651   \n",
       "197        0.0007423502         0.0008273638       0.0008536616   \n",
       "198        0.0004345464         0.0005174784       0.0005229071   \n",
       "\n",
       "                   117  \n",
       "0    Frequency(extra2)  \n",
       "1                  NaN  \n",
       "2                  NaN  \n",
       "3                  NaN  \n",
       "4                  NaN  \n",
       "..                 ...  \n",
       "194       0.0000199094  \n",
       "195       0.0000000000  \n",
       "196       0.0008361953  \n",
       "197       0.0008361953  \n",
       "198       0.0004380071  \n",
       "\n",
       "[199 rows x 118 columns]"
      ]
     },
     "execution_count": 28,
     "metadata": {},
     "output_type": "execute_result"
    }
   ],
   "source": [
    "data_vis"
   ]
  },
  {
   "cell_type": "code",
   "execution_count": 29,
   "metadata": {},
   "outputs": [],
   "source": [
    "my_data = np.genfromtxt('Data7.csv', delimiter='\\t')"
   ]
  },
  {
   "cell_type": "code",
   "execution_count": 30,
   "metadata": {
    "scrolled": true
   },
   "outputs": [
    {
     "data": {
      "text/plain": [
       "array([[          nan,           nan,           nan, ...,           nan,\n",
       "                  nan,           nan],\n",
       "       [          nan,           nan, 0.0000000e+00, ...,           nan,\n",
       "                  nan,           nan],\n",
       "       [          nan,           nan, 7.5000000e-01, ...,           nan,\n",
       "                  nan,           nan],\n",
       "       ...,\n",
       "       [          nan,           nan, 7.5000000e+00, ..., 1.0861030e-03,\n",
       "        1.1119651e-03, 8.3619530e-04],\n",
       "       [          nan,           nan, 8.6500000e+00, ..., 8.2736380e-04,\n",
       "        8.5366160e-04, 8.3619530e-04],\n",
       "       [          nan,           nan, 8.4000000e+00, ..., 5.1747840e-04,\n",
       "        5.2290710e-04, 4.3800710e-04]])"
      ]
     },
     "execution_count": 30,
     "metadata": {},
     "output_type": "execute_result"
    }
   ],
   "source": [
    "my_data"
   ]
  },
  {
   "cell_type": "markdown",
   "metadata": {},
   "source": [
    "# Problem 3, question d)"
   ]
  },
  {
   "cell_type": "code",
   "execution_count": 31,
   "metadata": {},
   "outputs": [
    {
     "data": {
      "text/plain": [
       "array([1., 1., 1., 1., 1., 1., 1., 1., 1., 1., 1., 1., 1., 1., 1., 1., 1.,\n",
       "       1., 1., 1., 1., 1., 1., 1., 1., 1., 1., 1., 1., 1., 1., 1., 1., 1.,\n",
       "       1., 1., 1., 1., 1., 1., 1., 1., 1., 1., 1., 1., 1., 1., 1., 1., 1.,\n",
       "       1., 1., 1., 1., 1., 1., 1., 1., 1., 1., 1., 1., 1., 1., 1., 1., 1.,\n",
       "       1., 1., 1., 1., 1., 1., 1., 1., 1., 1., 1., 1., 1., 1., 1., 1., 1.,\n",
       "       1., 1., 1., 1., 1., 1., 1., 1., 1., 1., 1., 1., 1., 1.])"
      ]
     },
     "execution_count": 31,
     "metadata": {},
     "output_type": "execute_result"
    }
   ],
   "source": [
    "np.sum(my_data[1:74,8:107],axis=0)"
   ]
  },
  {
   "cell_type": "markdown",
   "metadata": {},
   "source": [
    "# Problem 3, question e)"
   ]
  },
  {
   "cell_type": "code",
   "execution_count": 32,
   "metadata": {},
   "outputs": [
    {
     "data": {
      "image/png": "[encoded data removed]",
      "text/plain": [
       "<Figure size 432x288 with 1 Axes>"
      ]
     },
     "metadata": {
      "needs_background": "light"
     },
     "output_type": "display_data"
    }
   ],
   "source": [
    "plt.bar(np.arange(73),my_data[1:74,8],label='Data')\n",
    "plt.show()"
   ]
  },
  {
   "cell_type": "code",
   "execution_count": 33,
   "metadata": {},
   "outputs": [
    {
     "data": {
      "text/plain": [
       "0.00486821844760701"
      ]
     },
     "execution_count": 33,
     "metadata": {},
     "output_type": "execute_result"
    }
   ],
   "source": [
    "entropy(my_data[1:74,8], base=2)"
   ]
  },
  {
   "cell_type": "code",
   "execution_count": 34,
   "metadata": {},
   "outputs": [
    {
     "data": {
      "image/png": "[encoded data removed]",
      "text/plain": [
       "<Figure size 432x288 with 1 Axes>"
      ]
     },
     "metadata": {
      "needs_background": "light"
     },
     "output_type": "display_data"
    }
   ],
   "source": [
    "plt.bar(np.arange(73),my_data[1:74,106],label='Data')\n",
    "plt.show()"
   ]
  },
  {
   "cell_type": "code",
   "execution_count": 35,
   "metadata": {},
   "outputs": [
    {
     "data": {
      "text/plain": [
       "3.3458096203421253"
      ]
     },
     "execution_count": 35,
     "metadata": {},
     "output_type": "execute_result"
    }
   ],
   "source": [
    "entropy(my_data[1:74,106], base=2)"
   ]
  },
  {
   "cell_type": "markdown",
   "metadata": {},
   "source": [
    "# Problem 3, question f)"
   ]
  },
  {
   "cell_type": "code",
   "execution_count": 36,
   "metadata": {},
   "outputs": [],
   "source": [
    "results_table=np.zeros(99)\n",
    "for i in range(8,107):\n",
    "    results_table[i-8]=entropy(my_data[1:74,i], base=2)"
   ]
  },
  {
   "cell_type": "code",
   "execution_count": 37,
   "metadata": {},
   "outputs": [
    {
     "data": {
      "image/png": "[encoded data removed]",
      "text/plain": [
       "<Figure size 432x288 with 1 Axes>"
      ]
     },
     "metadata": {
      "needs_background": "light"
     },
     "output_type": "display_data"
    }
   ],
   "source": [
    "plt.plot(np.arange(99),results_table[:],'bo-')\n",
    "ax = plt.gca()\n",
    "ax.set_xlabel(\"Time index\")\n",
    "ax.set_ylabel(\"Entropy (bits)\")\n",
    "plt.show()"
   ]
  },
  {
   "cell_type": "markdown",
   "metadata": {},
   "source": [
    "# Problem 3, question g)"
   ]
  },
  {
   "cell_type": "code",
   "execution_count": 38,
   "metadata": {},
   "outputs": [
    {
     "data": {
      "text/plain": [
       "array([1., 1., 1., 1., 1., 1., 1., 1., 1., 1., 1., 1., 1., 1., 1., 1., 1.,\n",
       "       1., 1., 1., 1., 1., 1., 1., 1., 1., 1., 1., 1., 1., 1., 1., 1., 1.,\n",
       "       1., 1., 1., 1., 1., 1., 1., 1., 1., 1., 1., 1., 1., 1., 1., 1., 1.,\n",
       "       1., 1., 1., 1., 1., 1., 1., 1., 1., 1., 1., 1., 1., 1., 1., 1., 1.,\n",
       "       1., 1., 1., 1., 1., 1., 1., 1., 1., 1., 1., 1., 1., 1., 1., 1., 1.,\n",
       "       1., 1., 1., 1., 1., 1., 1., 1., 1., 1., 1., 1., 1., 1., 1., 1., 1.,\n",
       "       1., 1., 1., 1., 1., 1., 1.])"
      ]
     },
     "execution_count": 38,
     "metadata": {},
     "output_type": "execute_result"
    }
   ],
   "source": [
    "np.sum(my_data[74:199,8:117],axis=0)"
   ]
  },
  {
   "cell_type": "code",
   "execution_count": 39,
   "metadata": {},
   "outputs": [
    {
     "data": {
      "image/png": "[encoded data removed]",
      "text/plain": [
       "<Figure size 432x288 with 1 Axes>"
      ]
     },
     "metadata": {
      "needs_background": "light"
     },
     "output_type": "display_data"
    }
   ],
   "source": [
    "plt.bar(np.arange(125),my_data[74:199,8],label='Data')\n",
    "plt.show()"
   ]
  },
  {
   "cell_type": "code",
   "execution_count": 40,
   "metadata": {},
   "outputs": [
    {
     "data": {
      "text/plain": [
       "0.01425857901255439"
      ]
     },
     "execution_count": 40,
     "metadata": {},
     "output_type": "execute_result"
    }
   ],
   "source": [
    "entropy(my_data[74:199,8], base=2)"
   ]
  },
  {
   "cell_type": "code",
   "execution_count": 41,
   "metadata": {},
   "outputs": [
    {
     "data": {
      "image/png": "[encoded data removed]",
      "text/plain": [
       "<Figure size 432x288 with 1 Axes>"
      ]
     },
     "metadata": {
      "needs_background": "light"
     },
     "output_type": "display_data"
    }
   ],
   "source": [
    "plt.bar(np.arange(125),my_data[74:199,117],label='Data')\n",
    "plt.show()"
   ]
  },
  {
   "cell_type": "code",
   "execution_count": 42,
   "metadata": {},
   "outputs": [
    {
     "data": {
      "text/plain": [
       "0.02955809598487556"
      ]
     },
     "execution_count": 42,
     "metadata": {},
     "output_type": "execute_result"
    }
   ],
   "source": [
    "entropy(my_data[74:199,117], base=2)"
   ]
  },
  {
   "cell_type": "code",
   "execution_count": 43,
   "metadata": {},
   "outputs": [],
   "source": [
    "results_table_2=np.zeros(110)\n",
    "for i in range(8,118):\n",
    "    results_table_2[i-8]=entropy(my_data[74:199,i], base=2)"
   ]
  },
  {
   "cell_type": "code",
   "execution_count": 44,
   "metadata": {},
   "outputs": [
    {
     "data": {
      "image/png": "[encoded data removed]",
      "text/plain": [
       "<Figure size 432x288 with 1 Axes>"
      ]
     },
     "metadata": {
      "needs_background": "light"
     },
     "output_type": "display_data"
    }
   ],
   "source": [
    "plt.plot(np.arange(110),results_table_2[:],'bo-')\n",
    "ax = plt.gca()\n",
    "ax.set_xlabel(\"Time index\")\n",
    "ax.set_ylabel(\"Entropy (bits)\")\n",
    "plt.show()"
   ]
  }
 ],
 "metadata": {
  "kernelspec": {
   "display_name": "Python 3 (ipykernel)",
   "language": "python",
   "name": "python3"
  },
  "language_info": {
   "codemirror_mode": {
    "name": "ipython",
    "version": 3
   },
   "file_extension": ".py",
   "mimetype": "text/x-python",
   "name": "python",
   "nbconvert_exporter": "python",
   "pygments_lexer": "ipython3",
   "version": "3.9.10"
  }
 },
 "nbformat": 4,
 "nbformat_minor": 2
}
