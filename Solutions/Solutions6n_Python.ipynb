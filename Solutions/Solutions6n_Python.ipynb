{
 "cells": [
  {
   "cell_type": "markdown",
   "id": "4c031bdf",
   "metadata": {},
   "source": [
    "This code was *prettifyed* – standardization of code format – using ```code_prettify```. You can install it on your Jupyter notebook by installing ```jupyter_contrib_nbextensions``` following https://jupyter-contrib-nbextensions.readthedocs.io/en/latest/install.html . **Please use it since it removes user-specific formatting styles that can sometimes be painful to parse.** – *The TAs.*"
   ]
  },
  {
   "cell_type": "markdown",
   "id": "300a5928",
   "metadata": {},
   "source": [
    "# Problem set 6: solutions"
   ]
  },
  {
   "cell_type": "markdown",
   "id": "28e63165",
   "metadata": {},
   "source": [
    "## Exercise 1: Gillespie algorithm\n",
    "\n",
    "### a) Event with constant rate\n",
    "\n",
    "Because the event happens randomly with constant rate $k$, the probability that one event occurs during one small time interval $\\delta t$ is $k\\delta t$. \n",
    "\n",
    "Since we know that either 0 or 1 event occurs during $\\delta t$, we have $P(1)=k\\delta t$ and $P(0)=1-k\\delta t$ to ensure normalization. We recognize the Bernoulli distribution with $p=k\\delta t$.\n",
    "\n",
    "Because the event happens randomly with constant rate $k$, the event can happen independently of whether it happened before. In particular, the fact that it happened once between $0$ and $\\delta t$ does not affect the probability that one event occurs again between $\\delta t$ and $2\\delta t$.\n",
    "\n",
    "### b) Poisson process\n",
    "\n",
    "Let $N(t)$ the random variable for the number of events that happen between time 0 and time $t$. \n",
    "\n",
    "To exploit what we found at the previous question, let us cut the time interval $[0,t]$ in $M=t/\\delta t$ small time intervals of duration $\\delta t$: these intervals are $[0,\\delta t]$, $[\\delta t,2\\delta t]$, $\\dots$, $[(M-1)\\delta t,t=M\\delta t]$. Then, $N(t)$ is the sum of the number of events that occurred during each of these time intervals.\n",
    "\n",
    "In each of these time intervals, the number of events that occur is 0 or 1, and it follows the Bernoulli distribution with $p=k\\delta t$ (see question a). Thus, to obtain $N(t)$, we draw $M$ times a Bernoulli distribution, which yields a binomial distribution with parameters $M=t/\\delta t$ and $p=k\\delta t$. \n",
    "\n",
    "Because we assume that $\\delta t$ is very small, let us consider $\\delta t\\to 0$: we see that $M\\to\\infty$ and $p\\to 0$ while $Mp=kt$ remains constant. In this regime, the binomial distribution tends to a Poisson distribution with mean $Mp=kt$ (see previous lecture on the Luria-Delbrück experiment). Therefore, the probability distribution of $N(t)$ is the Poisson distribution with mean $kt$:\n",
    "\\begin{equation}\n",
    "P(N(t)=n)=e^{-kt}\\frac{(kt)^{n}}{n!} \\quad \\forall n \\in \\mathbb{N} \\,. \\label{poi} \\tag{*}\n",
    "\\end{equation}\n",
    "\n",
    "### c) First event\n",
    "\n",
    "Let us consider $t$ such that $0<t<T$. Since $T$ denotes the first time after time 0 when the event happens (note that $T$ is a random variable because the event happens at random times), and since $0<t<T$, it means that no event has happened between 0 and $t$, and hence, $N(t)=0$. \n",
    "\n",
    "Reciprocally, for $t>0$, if $N(t)=0$, it means that no event has happened between 0 and $t$, and hence, we have $0<t<T$. \n",
    "\n",
    "We have shown that for $t>0$, $N(t)=0$ is equivalent to $t<T$. Therefore, $P(T>t)=P(N(t)=0)$. \n",
    "\n",
    "Using Eq. $\\ref{poi}$ above, we have $P(N(t)=0)=e^{-kt}$, and thus, we have\n",
    "\\begin{equation}\n",
    "P(T>t)=e^{-kt}\\,.\n",
    "\\end{equation}\n",
    "\n",
    "### d) Probability density of the first arrival time\n",
    "\n",
    "The probability density $p(t)$ of the first time when the event happens is such that $P(t<T\\leq t+ dt)=p(t)\\,dt$. But we have \n",
    "\\begin{equation}\n",
    "P(t< T\\leq t+ dt)=P(T>t)-P(T>t+ dt)=-\\frac{dP(T>t)}{dt}\\,dt\\,.\n",
    "\\end{equation}\n",
    "Therefore\n",
    "\\begin{equation}\n",
    "p(t)=-\\frac{dP(T>t)}{dt}=ke^{-kt}\\,.\n",
    "\\end{equation}\n",
    "We recognize an **exponential distribution**.\n",
    "\n",
    "Here, we just demonstrated a fundamental point of the Gillespie algorithm: at each time point, the time at which the next event happens can just be drawn in an exponential distribution with rate $k$. \n",
    "\n",
    "The python pseudo-code simulating the process for a time total_time and keeping track of the number of events is given by:\n",
    "\n",
    "```python\n",
    "def pseudo_gillespie_1(total_time, k):\n",
    "    event = 0\n",
    "    time = 0\n",
    "    while time <= total_time:\n",
    "        time += np.random.exponential(1/k)\n",
    "        event += 1\n",
    "    return(event)\n",
    "```\n",
    "\n",
    "### e) Two different and independent event types\n",
    "\n",
    "Assuming that two different and independent events 1 and 2 can happen, one with rate $k_1$ and the other one with rate $k_2$, the probability that one event (whatever its type) occurs in a small time interval $\\delta t$ is the sum of the probability that an event of type 1 occurs and of the probability that an event of type 2 occurs. So, it is $k_1\\delta t+k_2\\delta t=(k_1+k_2)\\delta t$. \n",
    "\n",
    "Here, we see that the sum of rates, $k_1+k_2$, now plays the part of the unique rate $k$ in the first question. Therefore, we should now draw the time at which the next event, **whatever its type**, occurs, in an exponential distribution with rate $k_1+k_2$.\n",
    "\n",
    "### f) Choosing the event that happens\n",
    "\n",
    "Now we know how to figure out **when** the next event happens: we can draw its time of arrival in an exponential distribution with rate $k_1+k_2$. To decide **which** of the two possible events (1 or 2) is the one that happens at this time, we should take into account the fact that they happen proportionally to their rates - if event 1 has a twice larger rate, it will happen twice more often. Therefore, event 1 will happen with probability $k_1/(k_1+k_2)$ and event 2 will happen with probability $k_2/(k_1+k_2)$. These are the only two possibilities, their probabilities sum to 1, so normalization is satisfied.\n",
    "\n",
    "In a simulation, to choose which event occurs, we can draw a random number $r$ in a uniform distribution between 0 and 1, and compare it to $k_1/(k_1+k_2)$: if $r<k_1/(k_1+k_2)$, then we decide that event 1 occurs, and if $r\\geq k_1/(k_1+k_2)$, then we decide that event 2 occurs. \n",
    "\n",
    "Indeed, because $r$ is uniformly distributed between 0 and 1, we have for all $x$ between 0 and 1, $P(r<x)=x$ and $P(r\\geq x)=1-x$, so this procedure ensures that event 1 occurs with probability $k_1/(k_1+k_2)$ and event 2 with probability $k_2/(k_1+k_2)$.\n",
    "\n",
    "Here, the python pseudo-code simulating the process for a time total_time and keeping track of the number of events of both types is given by:\n",
    "\n",
    "```python\n",
    "def pseudo_gillespie_2(total_time, k1, k2):\n",
    "    event_1 = 0\n",
    "    event_2 = 0\n",
    "    time = 0\n",
    "    while time <= total_time:\n",
    "        ktot = k1 + k2\n",
    "        time += np.random.exponential(1/ktot)\n",
    "        r = random()\n",
    "        if r <= k1/ktot:\n",
    "            event_1 += 1\n",
    "        else:\n",
    "            event_2 += 1\n",
    "    return(event_1, event_2)\n",
    "```\n",
    "\n",
    "### g) Gillespie algorithm\n",
    "\n",
    "To simulate the process and the trajectory of the system (showing the state of the system versus time), we start at time $t=0$ in a given initial state. Then:\n",
    "\n",
    "1- We pick the **time $t_1$ at which the next event occurs** in an **exponential distribution** with rate the **sum of the rates of all possible events**. \n",
    "\n",
    "2- We update time $t$ to $t+t_1$.\n",
    "\n",
    "3- We choose **which** of the possible events occurs at time $t_1$, by **drawing a random number $r$ in a uniform distribution between 0 and 1** and **comparing it to the ratios of the rate of each event to the sum of the rates of all possible events**. [Note: if there are $n>2$ possible event types, we need to split the interval [0,1[ into sub-intervals $[0,\\frac{k_1}{K}[$, $[\\frac{k_1}{K},\\frac{k_1+k_2}{K}[$, ..., $[\\frac{k_1+\\dots+k_{n-1}}{K},1[$, and event 1 occurs if $r$ falls in the first of them, event 2 if it falls in the second, ..., and event $n$ if it falls in the last one.] \n",
    "\n",
    "4- We perform the event and update the state of the system.\n",
    "\n",
    "5- We go back to 1 and iterate steps 1 to 4 for the desired amount of time."
   ]
  },
  {
   "cell_type": "markdown",
   "id": "727dcf49",
   "metadata": {},
   "source": [
    "## Exercise 2: Simulation of a simple gene expression model and data analysis\n",
    "\n",
    "### a) Master equation\n",
    "\n",
    "The set of reactions of the system is:\n",
    "\n",
    "\\begin{eqnarray*}\n",
    "\\emptyset &\\xrightarrow[]{k_{RNA}}& RNA\\\\\n",
    "RNA &\\xrightarrow[]{k_{decay}}& \\emptyset\n",
    "\\end{eqnarray*}\n",
    "\n",
    "The master equation of this system is given by:\n",
    "\n",
    "\\begin{equation}\n",
    "\\frac{d P_n}{d t}=k_{RNA} \\times \\left[P_{n-1}-P_{n}\\right]-k_{decay} \\times \\left[n\\,P_n-\\left(n+1\\right)P_{n+1}\\right] \\quad \\forall n \\in \\mathbb{N^*}\n",
    "\\end{equation}\n",
    "\n",
    "\\begin{equation}\n",
    "\\frac{d P_0}{d t}=- k_{RNA} \\times P_{0} + k_{decay} \\times P_{1} \n",
    "\\end{equation}\n",
    "\n",
    "At equilibrium $\\frac{d P_n}{d t}=0 \\quad \\forall n \\in \\mathbb{N}$ and we have:\n",
    "\n",
    "\\begin{equation}\n",
    "P_n=e^{-\\lambda}\\frac{\\lambda^n}{n!} \\quad \\forall n \\in \\mathbb{N}\n",
    "\\end{equation}\n",
    "\n",
    "with $\\lambda = k_{RNA}/k_{decay}$. It comes that:\n",
    "\n",
    "\\begin{eqnarray*}\n",
    "\\langle RNA \\rangle &=& \\frac{k_{RNA}}{k_{decay}} \\\\\n",
    "Var(RNA) &=& \\frac{k_{RNA}}{k_{decay}} \\\\\n",
    "FF &\\doteq& \\frac{Var(RNA)}{\\langle RNA \\rangle} = 1\n",
    "\\end{eqnarray*}"
   ]
  },
  {
   "cell_type": "markdown",
   "id": "abd025ee",
   "metadata": {},
   "source": [
    "### b) Gillespie algorithm"
   ]
  },
  {
   "cell_type": "code",
   "execution_count": 1,
   "id": "e3a484ac",
   "metadata": {
    "ExecuteTime": {
     "end_time": "2022-03-23T17:03:34.628590Z",
     "start_time": "2022-03-23T17:03:34.106872Z"
    }
   },
   "outputs": [],
   "source": [
    "import numpy as np\n",
    "import matplotlib.pyplot as plt"
   ]
  },
  {
   "cell_type": "code",
   "execution_count": 2,
   "id": "ea94e702",
   "metadata": {
    "ExecuteTime": {
     "end_time": "2022-03-23T17:03:34.725862Z",
     "start_time": "2022-03-23T17:03:34.691874Z"
    }
   },
   "outputs": [],
   "source": [
    "## Gillespie algorithm using the so-called \"direct-method\"\n",
    "\n",
    "\n",
    "def Gillespie(kRNA, kd, tf, RNA0=0):\n",
    "    List_RNA = [RNA0]\n",
    "    List_time = [0]\n",
    "    while List_time[-1] < tf:\n",
    "        List_rates = [kRNA, kd * List_RNA[-1]]\n",
    "        sum_rates = np.sum(List_rates)\n",
    "        List_time += [List_time[-1] + np.random.exponential(1 / sum_rates)\n",
    "                      ]  #draw a random number exponentially distributed\n",
    "        random_number = np.random.random(\n",
    "        )  #draw a random number between 0 and 1\n",
    "        if random_number <= List_rates[0] / sum_rates:\n",
    "            #The synthesis event is selected : RNA -> RNA +1\n",
    "            List_RNA += [List_RNA[-1] + 1]\n",
    "        elif random_number <= np.sum(List_rates[0:2]) / sum_rates:\n",
    "            #The degradation event is selected : RNA -> RNA - 1\n",
    "            List_RNA += [List_RNA[-1] - 1]\n",
    "        else:\n",
    "            print(\"The probabilities should sum to one!!\")\n",
    "    return (List_time, List_RNA)"
   ]
  },
  {
   "cell_type": "code",
   "execution_count": 3,
   "id": "7efd35c2",
   "metadata": {
    "ExecuteTime": {
     "end_time": "2022-03-23T17:03:36.193285Z",
     "start_time": "2022-03-23T17:03:35.231776Z"
    }
   },
   "outputs": [
    {
     "data": {
      "text/plain": [
       "(0.0, 150.0)"
      ]
     },
     "execution_count": 3,
     "metadata": {},
     "output_type": "execute_result"
    },
    {
     "data": {
      "image/png": "[encoded data removed]",
      "text/plain": [
       "<Figure size 432x288 with 1 Axes>"
      ]
     },
     "metadata": {
      "needs_background": "light"
     },
     "output_type": "display_data"
    }
   ],
   "source": [
    "kRNA = 17.370\n",
    "kd = 0.1368\n",
    "tf = 150\n",
    "RNA0 = 0\n",
    "\n",
    "for k in range(5):\n",
    "    List_time, List_RNA = Gillespie(kRNA, kd, tf, RNA0)\n",
    "    plt.plot(List_time, List_RNA, alpha=0.75)\n",
    "plt.xlabel(r'time ($h$)')\n",
    "plt.ylabel(r'#RNA')\n",
    "plt.xlim(0, tf)"
   ]
  },
  {
   "cell_type": "markdown",
   "id": "80fa3486",
   "metadata": {},
   "source": [
    "### c) Store only final timepoint"
   ]
  },
  {
   "cell_type": "code",
   "execution_count": 4,
   "id": "a835095e",
   "metadata": {
    "ExecuteTime": {
     "end_time": "2022-03-23T17:03:36.328566Z",
     "start_time": "2022-03-23T17:03:36.321014Z"
    }
   },
   "outputs": [],
   "source": [
    "## Gillespie's algorithm using the so-called \"direct-method\":\n",
    "# storing only the endpoint to have faster computation\n",
    "\n",
    "\n",
    "def Gillespie_endpoint(kRNA, kd, tf, RNA0=0):\n",
    "    RNA = RNA0\n",
    "    time = 0\n",
    "    while time < tf:\n",
    "        RNAold = RNA  # this is a dummy variable to ensure we are returning #RNA at time t=tf\n",
    "        List_rates = [kRNA, kd * RNA]\n",
    "        sum_rates = np.sum(List_rates)\n",
    "        time += np.random.exponential(\n",
    "            1 / sum_rates)  #draw a random number exponentially distributed\n",
    "        random_number = np.random.random(\n",
    "        )  #draw a random number between 0 and 1\n",
    "        if random_number <= List_rates[0] / sum_rates:\n",
    "            #The synthesis event is selected : RNA -> RNA +1\n",
    "            RNA += 1\n",
    "        elif random_number <= np.sum(List_rates[0:2]) / sum_rates:\n",
    "            #The degradation event is selected : RNA -> RNA - 1\n",
    "            RNA -= 1\n",
    "    return (RNAold)"
   ]
  },
  {
   "cell_type": "code",
   "execution_count": 5,
   "id": "aae243d8",
   "metadata": {
    "ExecuteTime": {
     "end_time": "2022-03-23T17:03:49.659902Z",
     "start_time": "2022-03-23T17:03:36.817295Z"
    }
   },
   "outputs": [
    {
     "name": "stdout",
     "output_type": "stream",
     "text": [
      "<RNA> = 128.408\n",
      "Var(RNA) = 116.36153599999999\n",
      "FF(RNA) = 0.9061860320229269\n"
     ]
    }
   ],
   "source": [
    "#parameters\n",
    "kRNA = 17.370\n",
    "kd = 0.1368\n",
    "tf = 75\n",
    "RNA0 = 0\n",
    "\n",
    "Ntraj = 250\n",
    "\n",
    "List_endpoint = Ntraj * [0]\n",
    "\n",
    "for traj in range(Ntraj):\n",
    "    List_endpoint[traj] = Gillespie_endpoint(kRNA, kd, tf, RNA0)\n",
    "\n",
    "print(r'<RNA> = %s' % np.mean(List_endpoint))\n",
    "print(r'Var(RNA) = %s' % np.var(List_endpoint))\n",
    "print(r'FF(RNA) = %s' % (np.var(List_endpoint) / np.mean(List_endpoint)))"
   ]
  },
  {
   "cell_type": "code",
   "execution_count": 6,
   "id": "fdc6e40c",
   "metadata": {
    "ExecuteTime": {
     "end_time": "2022-03-23T17:03:49.949574Z",
     "start_time": "2022-03-23T17:03:49.662343Z"
    }
   },
   "outputs": [
    {
     "data": {
      "text/plain": [
       "(0.0, 250.0)"
      ]
     },
     "execution_count": 6,
     "metadata": {},
     "output_type": "execute_result"
    },
    {
     "data": {
      "image/png": "[encoded data removed]",
      "text/plain": [
       "<Figure size 432x288 with 1 Axes>"
      ]
     },
     "metadata": {
      "needs_background": "light"
     },
     "output_type": "display_data"
    }
   ],
   "source": [
    "plt.hist(List_endpoint, bins=50, range=(0, 250), density=True)\n",
    "plt.xlabel(r'$RNA$')\n",
    "plt.ylabel(r'density')\n",
    "plt.xlim(0, 250)"
   ]
  },
  {
   "cell_type": "markdown",
   "id": "4c7e75fd",
   "metadata": {},
   "source": [
    "The expected value for the mean was kRNA/kd:"
   ]
  },
  {
   "cell_type": "code",
   "execution_count": 7,
   "id": "04684a60",
   "metadata": {
    "ExecuteTime": {
     "end_time": "2022-03-23T17:03:49.964384Z",
     "start_time": "2022-03-23T17:03:49.958508Z"
    }
   },
   "outputs": [
    {
     "name": "stdout",
     "output_type": "stream",
     "text": [
      "Theory <RNA> = 126.97368421052632\n"
     ]
    }
   ],
   "source": [
    "print(r'Theory <RNA> = %s' %(17.370/0.1368))"
   ]
  },
  {
   "cell_type": "markdown",
   "id": "e5c9de1c",
   "metadata": {},
   "source": [
    "It is quite close to the result we obtained by simulations. In addition we expect the same value for the variance, and a Fano factor of 1, which is indeed consistent with the results obtained by the simulation."
   ]
  },
  {
   "cell_type": "markdown",
   "id": "103428ca",
   "metadata": {},
   "source": [
    "### d) Data analysis"
   ]
  },
  {
   "cell_type": "code",
   "execution_count": 8,
   "id": "77087e87",
   "metadata": {
    "ExecuteTime": {
     "end_time": "2022-03-23T17:03:49.974483Z",
     "start_time": "2022-03-23T17:03:49.967800Z"
    }
   },
   "outputs": [],
   "source": [
    "data = np.genfromtxt(\"problem_set6/smFISH_data.csv\", skip_header=1, delimiter=\"\\n\")"
   ]
  },
  {
   "cell_type": "code",
   "execution_count": 9,
   "id": "94ff6a59",
   "metadata": {
    "ExecuteTime": {
     "end_time": "2022-03-23T17:03:50.247654Z",
     "start_time": "2022-03-23T17:03:49.976622Z"
    }
   },
   "outputs": [
    {
     "name": "stdout",
     "output_type": "stream",
     "text": [
      "<RNA> = 127.70842332613391\n",
      "Var(RNA) = 2123.584529479542\n",
      "FF(RNA) = 16.628382640481455\n"
     ]
    },
    {
     "data": {
      "image/png": "[encoded data removed]",
      "text/plain": [
       "<Figure size 432x288 with 1 Axes>"
      ]
     },
     "metadata": {
      "needs_background": "light"
     },
     "output_type": "display_data"
    }
   ],
   "source": [
    "plt.hist(data, bins=50, range=(0, 250), density=True)\n",
    "plt.xlabel(r'$RNA$')\n",
    "plt.ylabel(r'density')\n",
    "plt.xlim(0, 250)\n",
    "\n",
    "print(r'<RNA> = %s' % np.mean(data))\n",
    "print(r'Var(RNA) = %s' % np.var(data))\n",
    "print(r'FF(RNA) = %s' % (np.var(data) / np.mean(data)))"
   ]
  },
  {
   "cell_type": "markdown",
   "id": "fa93e57e",
   "metadata": {},
   "source": [
    "We observe here that the variance is much larger than the mean, and the Fano factor is much larger than 1. Therefore, the data is not consistent with the predictions from the previous model. This motivates the introduction of a more complete model."
   ]
  },
  {
   "cell_type": "markdown",
   "id": "7da2568e",
   "metadata": {},
   "source": [
    "## Exercise 3: Modeling gene expression systems beyond the Poisson model"
   ]
  },
  {
   "cell_type": "markdown",
   "id": "cc2e9a5d",
   "metadata": {},
   "source": [
    "### a) Master equation\n",
    "\n",
    "\n",
    "The set of reactions for such a system gives:\n",
    "\n",
    "\\begin{eqnarray*}\n",
    "OFF  &\\xrightarrow[]{k_{ON}}& ON \\\\\n",
    "ON  &\\xrightarrow[]{k_{OFF}}& OFF \\\\\n",
    "ON &\\xrightarrow[]{k_{RNA}}& ON + RNA\\\\\n",
    "RNA &\\xrightarrow[]{k_{decay}}& \\emptyset\n",
    "\\end{eqnarray*}\n",
    "\n",
    "The possible states are given by\n",
    "\n",
    "\\begin{equation}\n",
    "(i,n), i \\in \\{0,1\\}, n \\in \\mathbb{N}\n",
    "\\end{equation}\n",
    "\n",
    "with \n",
    "\n",
    "\\begin{equation}\n",
    "i = 0 \\quad \\text{meaning that the gene is inactive} \\\\\n",
    "i = 1 \\quad \\text{meaning that the gene is active}\n",
    "\\end{equation}\n",
    "\n",
    "and $n$ denoting the number of RNA molecules in the cell. \n",
    "\n",
    "To clarify the different possible transitions we can drawn the following scheme:\n",
    "\n",
    "![title](scheme_problem_set6.png)\n",
    "\n",
    "In order to write down the master equations, we will study the transition probabilities form states $(0,n)$ and $(1,n)$, i.e decompose the process according to the gene state $i$. \n",
    "\n",
    "From state $(0,n)$ the system may transition to:\n",
    "\n",
    "\\begin{equation}\n",
    "(1,n) \\quad \\text{with rate} \\quad k_{ON} \\\\\n",
    "(0,n-1) \\quad \\text{with rate} \\quad k_{decay}\\times n\n",
    "\\end{equation}\n",
    "\n",
    "From state $(1,n)$ the system may transition to:\n",
    "\n",
    "\\begin{equation}\n",
    "(0,n) \\quad \\text{with rate} \\quad k_{OFF} \\\\\n",
    "(1,n-1)\\quad\\text{with rate} \\quad k_{decay}\\times n \\\\\n",
    "(1,n+1) \\quad \\text{with rate} \\quad k_{RNA}\n",
    "\\end{equation}\n",
    "\n",
    "Let $P_{0,n}(t)$ (resp. $P_{1,n}(t)$) be the probability that at time $t$ the gene is inactive (resp. active) and that $n$ molecules of RNA are present. The master equation of this system is given by:\n",
    "\n",
    "\\begin{equation}\n",
    "\\forall n \\geq 0 \\\\\n",
    "\\frac{d P_{0,n}}{d t}= -(k_{ON} + k_{decay} n) P_{0,n}(t) + k_{decay} (n+1) P_{0,n+1}(t) + k_{OFF} P_{1,n}(t)\\\\\n",
    "\\frac{d P_{1,0}}{d t}= - (k_{OFF} + k_{RNA}) P_{1,0}(t) + k_{decay} P_{1,1}(t) + k_{ON} P_{0,0}(t)\n",
    "\\end{equation}\n",
    "\n",
    "\n",
    "\n",
    "\\begin{equation}\n",
    "\\forall n \\geq 1 \\\\\n",
    "\\frac{d P_{1,n}}{d t}= -(k_{OFF} +  k_{RNA} + k_{decay} n)P_{1,n}(t) + k_{decay}(n+1)P_{1,n+1}(t)+ k_{RNA}P_{1,n-1}(t)+ k_{ON}P_{0,n}(t)\n",
    "\\end{equation}\n",
    "\n",
    "(reference: Peccoud J. Ycart B. 1995  https://www.sciencedirect.com/science/article/pii/S0040580985710271)\n",
    "\n",
    "\n",
    "### b) Average RNA number in the random telegraph model\n",
    "\n",
    "We know that:\n",
    "\n",
    "\\begin{eqnarray*}\n",
    "\\langle RNA \\rangle &=& \\nu_{ON}\\times \\frac{k_{RNA}}{k_{decay}} \\\\\n",
    "\\nu_{ON} &\\doteq& \\frac{k_{ON}}{k_{ON}+k_{OFF}}\n",
    "\\end{eqnarray*}\n",
    "\n",
    "$\\nu_{ON}$ is the proportion of time in which the gene is in the ON state. In the random telegraph model we observe that:\n",
    "\n",
    "\\begin{eqnarray*}\n",
    "\\langle RNA \\rangle &=& \\nu_{ON} \\times \\langle RNA \\rangle_{Poisson}\n",
    "\\end{eqnarray*}\n",
    "\n",
    "So we rescale the average number of RNA molecules found in the equivalent Poisson model (with same $k_{RNA}$ and $k_{decay}$) by proportion of time in which the gene is in the ON state. In other words, in the ON state, the system behaves in the same way as the equivalent Poisson model.  "
   ]
  },
  {
   "cell_type": "markdown",
   "id": "55d98948",
   "metadata": {},
   "source": [
    "### c) Gillespie algorithm for the random telegraph model"
   ]
  },
  {
   "cell_type": "code",
   "execution_count": 10,
   "id": "237629d1",
   "metadata": {
    "ExecuteTime": {
     "end_time": "2022-03-23T17:03:50.261980Z",
     "start_time": "2022-03-23T17:03:50.252290Z"
    }
   },
   "outputs": [],
   "source": [
    "## Gillespie's algorithm using the so-called \"direct-method\":\n",
    "# storing only the endpoint to have faster computation\n",
    "\n",
    "\n",
    "def Gillespie_endpoint_data(kON, kOFF, kRNA, kd, tf, RNA0=0, ON0=0):\n",
    "    RNA = RNA0\n",
    "    ON = ON0\n",
    "    OFF = 1 - ON0\n",
    "    time = 0\n",
    "    while time < tf:\n",
    "        RNAold = RNA  # this is a dummy variable to ensure we are returning #RNA at time t=tf\n",
    "        List_rates = [kRNA * ON, kd * RNA, kON * OFF, kOFF * ON]\n",
    "        sum_rates = np.sum(List_rates)\n",
    "        time += np.random.exponential(\n",
    "            1 / sum_rates)  #draw a random number exponentially distributed\n",
    "        random_number = np.random.random(\n",
    "        )  #draw a random number between 0 and 1\n",
    "        if random_number <= List_rates[0] / sum_rates:\n",
    "            #The synthesis event is selected : RNA -> RNA +1\n",
    "            RNA += 1\n",
    "        elif random_number <= np.sum(List_rates[0:2]) / sum_rates:\n",
    "            #The degradation event is selected : RNA -> RNA - 1\n",
    "            RNA -= 1\n",
    "        elif random_number <= np.sum(List_rates[0:3]) / sum_rates:\n",
    "            #OFF -> ON\n",
    "            ON += 1\n",
    "            OFF -= 1\n",
    "        elif random_number <= np.sum(List_rates[0:4]) / sum_rates:\n",
    "            #ON -> OFF\n",
    "            ON -= 1\n",
    "            OFF += 1\n",
    "    return (RNAold)"
   ]
  },
  {
   "cell_type": "markdown",
   "id": "dc759f6e",
   "metadata": {},
   "source": [
    "### d) Simulation of the random telegraph model"
   ]
  },
  {
   "cell_type": "code",
   "execution_count": 11,
   "id": "2f9d1411",
   "metadata": {
    "ExecuteTime": {
     "end_time": "2022-03-23T17:04:19.171976Z",
     "start_time": "2022-03-23T17:03:52.331961Z"
    }
   },
   "outputs": [
    {
     "name": "stdout",
     "output_type": "stream",
     "text": [
      "<RNA> = 128.272\n",
      "Var(RNA) = 1976.7380159999998\n",
      "FF(RNA) = 15.410518398403392\n"
     ]
    }
   ],
   "source": [
    "#parameters\n",
    "kON = 0.572\n",
    "kOFF = 0.758\n",
    "kRNA = 40.389\n",
    "kd = 0.1368\n",
    "tf = 75\n",
    "RNA0 = 0\n",
    "\n",
    "Ntraj = 500\n",
    "\n",
    "List_endpoint = Ntraj * [0]\n",
    "\n",
    "for traj in range(Ntraj):\n",
    "    List_endpoint[traj] = Gillespie_endpoint_data(kON, kOFF, kRNA, kd, tf)\n",
    "\n",
    "print(r'<RNA> = %s' % np.mean(List_endpoint))\n",
    "print(r'Var(RNA) = %s' % np.var(List_endpoint))\n",
    "print(r'FF(RNA) = %s' % (np.var(List_endpoint) / np.mean(List_endpoint)))"
   ]
  },
  {
   "cell_type": "markdown",
   "id": "a9e7607a",
   "metadata": {},
   "source": [
    "These results, and in particular the Fano factor, are now consistent with those found in the experimental data (question 1 d)."
   ]
  },
  {
   "cell_type": "code",
   "execution_count": 12,
   "id": "7e800f6a",
   "metadata": {
    "ExecuteTime": {
     "end_time": "2022-03-23T17:04:19.660639Z",
     "start_time": "2022-03-23T17:04:19.175155Z"
    }
   },
   "outputs": [
    {
     "data": {
      "text/plain": [
       "<matplotlib.legend.Legend at 0x7faead91b250>"
      ]
     },
     "execution_count": 12,
     "metadata": {},
     "output_type": "execute_result"
    },
    {
     "data": {
      "image/png": "[encoded data removed]",
      "text/plain": [
       "<Figure size 432x288 with 1 Axes>"
      ]
     },
     "metadata": {
      "needs_background": "light"
     },
     "output_type": "display_data"
    }
   ],
   "source": [
    "plt.hist(List_endpoint,\n",
    "         bins=50,\n",
    "         range=(0, 250),\n",
    "         density=True,\n",
    "         alpha=0.5,\n",
    "         label=\"simulation\")\n",
    "plt.hist(data, bins=50, range=(0, 250), density=True, alpha=0.5, label=\"data\")\n",
    "plt.xlabel(r'$RNA$')\n",
    "plt.ylabel(r'density')\n",
    "plt.xlim(0, 250)\n",
    "plt.legend()"
   ]
  },
  {
   "cell_type": "markdown",
   "id": "439189a3",
   "metadata": {},
   "source": [
    "### e) If $k_{ON} \\gg k_{OFF}$"
   ]
  },
  {
   "cell_type": "code",
   "execution_count": 13,
   "id": "411ce627",
   "metadata": {
    "ExecuteTime": {
     "end_time": "2022-03-23T17:05:20.082711Z",
     "start_time": "2022-03-23T17:04:19.665697Z"
    }
   },
   "outputs": [
    {
     "name": "stdout",
     "output_type": "stream",
     "text": [
      "<RNA> = 275.494\n",
      "Var(RNA) = 347.68996400000003\n",
      "FF(RNA) = 1.2620600230858021\n"
     ]
    }
   ],
   "source": [
    "#parameters\n",
    "alpha = 20  #scaling factor of kON\n",
    "kON = 0.572 * alpha\n",
    "kOFF = 0.758\n",
    "kRNA = 40.389\n",
    "kd = 0.1368\n",
    "tf = 75\n",
    "RNA0 = 0\n",
    "\n",
    "Ntraj = 500\n",
    "\n",
    "List_endpoint_alpha = Ntraj * [0]\n",
    "\n",
    "for traj in range(Ntraj):\n",
    "    List_endpoint_alpha[traj] = Gillespie_endpoint_data(\n",
    "        kON, kOFF, kRNA, kd, tf)\n",
    "\n",
    "print(r'<RNA> = %s' % np.mean(List_endpoint_alpha))\n",
    "print(r'Var(RNA) = %s' % np.var(List_endpoint_alpha))\n",
    "print(r'FF(RNA) = %s' %\n",
    "      (np.var(List_endpoint_alpha) / np.mean(List_endpoint_alpha)))"
   ]
  },
  {
   "cell_type": "code",
   "execution_count": 14,
   "id": "b776ea37",
   "metadata": {
    "ExecuteTime": {
     "end_time": "2022-03-23T17:06:16.390463Z",
     "start_time": "2022-03-23T17:05:20.087009Z"
    }
   },
   "outputs": [
    {
     "name": "stdout",
     "output_type": "stream",
     "text": [
      "<RNA> = 277.23\n",
      "Var(RNA) = 266.7091\n",
      "FF(RNA) = 0.9620499224470654\n"
     ]
    }
   ],
   "source": [
    "# Poisson simulation\n",
    "kRNA = 40.389 * kON / (kON + kOFF)  #in order to have the same average #RNA\n",
    "kd = 0.1368\n",
    "tf = 75\n",
    "RNA0 = 0\n",
    "\n",
    "Ntraj = 500\n",
    "\n",
    "List_endpoint_poisson = Ntraj * [0]\n",
    "\n",
    "for traj in range(Ntraj):\n",
    "    List_endpoint_poisson[traj] = Gillespie_endpoint(\n",
    "        kRNA, kd, tf)  #calls the code written in 2 c - Poisson model\n",
    "\n",
    "print(r'<RNA> = %s' % np.mean(List_endpoint_poisson))\n",
    "print(r'Var(RNA) = %s' % np.var(List_endpoint_poisson))\n",
    "print(r'FF(RNA) = %s' %\n",
    "      (np.var(List_endpoint_poisson) / np.mean(List_endpoint_poisson)))"
   ]
  },
  {
   "cell_type": "code",
   "execution_count": 15,
   "id": "0292563b",
   "metadata": {
    "ExecuteTime": {
     "end_time": "2022-03-23T17:06:16.964287Z",
     "start_time": "2022-03-23T17:06:16.394059Z"
    }
   },
   "outputs": [
    {
     "data": {
      "text/plain": [
       "<matplotlib.legend.Legend at 0x7faeadcb80d0>"
      ]
     },
     "execution_count": 15,
     "metadata": {},
     "output_type": "execute_result"
    },
    {
     "data": {
      "image/png": "[encoded data removed]",
      "text/plain": [
       "<Figure size 432x288 with 1 Axes>"
      ]
     },
     "metadata": {
      "needs_background": "light"
     },
     "output_type": "display_data"
    }
   ],
   "source": [
    "plt.hist(List_endpoint,\n",
    "         bins=50,\n",
    "         range=(0, 500),\n",
    "         density=True,\n",
    "         alpha=0.5,\n",
    "         label=\"Random telegraph fitting the data\")\n",
    "plt.hist(List_endpoint_alpha,\n",
    "         bins=50,\n",
    "         range=(0, 500),\n",
    "         density=True,\n",
    "         alpha=0.5,\n",
    "         label=\"Random telegraph with kON>>kOFF\")\n",
    "plt.hist(List_endpoint_poisson,\n",
    "         bins=50,\n",
    "         range=(0, 500),\n",
    "         density=True,\n",
    "         alpha=0.5,\n",
    "         label=\"Rescaled Poisson\")\n",
    "plt.xlabel(r'$RNA$')\n",
    "plt.ylabel(r'density')\n",
    "plt.xlim(0, 500)\n",
    "plt.legend()"
   ]
  },
  {
   "cell_type": "markdown",
   "id": "c17c089f",
   "metadata": {},
   "source": [
    "We observe that the results from the simulation of the rescaled Poisson model (which has the same average as the random telegraph model with $k_{ON}\\gg k_{OFF}$), match quite well those obtained by simulating this random telegraph model with $k_{ON}\\gg k_{OFF}$.\n",
    "\n",
    "This can be understood analytically. In particular, from question 2 a we know that:\n",
    "\n",
    "\\begin{eqnarray*}\n",
    "FF &=& 1+\\frac{(1-\\nu_{ON})\\times k_{RNA}}{k_{ON}+k_{OFF}+k_{decay}}\n",
    "\\end{eqnarray*}\n",
    "\n",
    "\n",
    "Taking the limit $k_{ON}\\gg k_{OFF}$ we see that $\\nu_{ON} \\xrightarrow[]{k_{ON}\\gg k_{OFF}} 1$, and thus\n",
    "\n",
    "\\begin{eqnarray*}\n",
    "FF \\xrightarrow[]{k_{ON}\\gg k_{OFF}} 1\n",
    "\\end{eqnarray*}\n",
    "\n",
    "as in the Poissonian model: we confirm analytically our observations made through simulations. "
   ]
  },
  {
   "cell_type": "code",
   "execution_count": null,
   "id": "c2f4cfc2",
   "metadata": {},
   "outputs": [],
   "source": []
  },
  {
   "cell_type": "code",
   "execution_count": null,
   "id": "0abfea40",
   "metadata": {},
   "outputs": [],
   "source": []
  }
 ],
 "metadata": {
  "kernelspec": {
   "display_name": "Python 3",
   "language": "python",
   "name": "python3"
  },
  "language_info": {
   "codemirror_mode": {
    "name": "ipython",
    "version": 3
   },
   "file_extension": ".py",
   "mimetype": "text/x-python",
   "name": "python",
   "nbconvert_exporter": "python",
   "pygments_lexer": "ipython3",
   "version": "3.9.4"
  }
 },
 "nbformat": 4,
 "nbformat_minor": 5
}
